{
 "cells": [
  {
   "cell_type": "markdown",
   "metadata": {},
   "source": [
    "# Importing Libraries"
   ]
  },
  {
   "cell_type": "code",
   "execution_count": 45,
   "metadata": {},
   "outputs": [],
   "source": [
    "import pandas as pd\n",
    "import numpy as np\n",
    "import matplotlib.pyplot as plt\n",
    "import seaborn as sns\n",
    "from sklearn.model_selection import train_test_split"
   ]
  },
  {
   "cell_type": "markdown",
   "metadata": {},
   "source": [
    "# Dataset"
   ]
  },
  {
   "cell_type": "code",
   "execution_count": 26,
   "metadata": {},
   "outputs": [
    {
     "name": "stdout",
     "output_type": "stream",
     "text": [
      "(500, 9)\n"
     ]
    },
    {
     "data": {
      "text/html": [
       "<div>\n",
       "<style scoped>\n",
       "    .dataframe tbody tr th:only-of-type {\n",
       "        vertical-align: middle;\n",
       "    }\n",
       "\n",
       "    .dataframe tbody tr th {\n",
       "        vertical-align: top;\n",
       "    }\n",
       "\n",
       "    .dataframe thead th {\n",
       "        text-align: right;\n",
       "    }\n",
       "</style>\n",
       "<table border=\"1\" class=\"dataframe\">\n",
       "  <thead>\n",
       "    <tr style=\"text-align: right;\">\n",
       "      <th></th>\n",
       "      <th>Customer Name</th>\n",
       "      <th>Customer e-mail</th>\n",
       "      <th>Country</th>\n",
       "      <th>Gender</th>\n",
       "      <th>Age</th>\n",
       "      <th>Annual Salary</th>\n",
       "      <th>Credit Card Debt</th>\n",
       "      <th>Net Worth</th>\n",
       "      <th>Car Purchase Amount</th>\n",
       "    </tr>\n",
       "  </thead>\n",
       "  <tbody>\n",
       "    <tr>\n",
       "      <th>0</th>\n",
       "      <td>Martina Avila</td>\n",
       "      <td>cubilia.Curae.Phasellus@quisaccumsanconvallis.edu</td>\n",
       "      <td>Bulgaria</td>\n",
       "      <td>0</td>\n",
       "      <td>41.851720</td>\n",
       "      <td>62812.09301</td>\n",
       "      <td>11609.380910</td>\n",
       "      <td>238961.2505</td>\n",
       "      <td>35321.45877</td>\n",
       "    </tr>\n",
       "    <tr>\n",
       "      <th>1</th>\n",
       "      <td>Harlan Barnes</td>\n",
       "      <td>eu.dolor@diam.co.uk</td>\n",
       "      <td>Belize</td>\n",
       "      <td>0</td>\n",
       "      <td>40.870623</td>\n",
       "      <td>66646.89292</td>\n",
       "      <td>9572.957136</td>\n",
       "      <td>530973.9078</td>\n",
       "      <td>45115.52566</td>\n",
       "    </tr>\n",
       "    <tr>\n",
       "      <th>2</th>\n",
       "      <td>Naomi Rodriquez</td>\n",
       "      <td>vulputate.mauris.sagittis@ametconsectetueradip...</td>\n",
       "      <td>Algeria</td>\n",
       "      <td>1</td>\n",
       "      <td>43.152897</td>\n",
       "      <td>53798.55112</td>\n",
       "      <td>11160.355060</td>\n",
       "      <td>638467.1773</td>\n",
       "      <td>42925.70921</td>\n",
       "    </tr>\n",
       "    <tr>\n",
       "      <th>3</th>\n",
       "      <td>Jade Cunningham</td>\n",
       "      <td>malesuada@dignissim.com</td>\n",
       "      <td>Cook Islands</td>\n",
       "      <td>1</td>\n",
       "      <td>58.271369</td>\n",
       "      <td>79370.03798</td>\n",
       "      <td>14426.164850</td>\n",
       "      <td>548599.0524</td>\n",
       "      <td>67422.36313</td>\n",
       "    </tr>\n",
       "    <tr>\n",
       "      <th>4</th>\n",
       "      <td>Cedric Leach</td>\n",
       "      <td>felis.ullamcorper.viverra@egetmollislectus.net</td>\n",
       "      <td>Brazil</td>\n",
       "      <td>1</td>\n",
       "      <td>57.313749</td>\n",
       "      <td>59729.15130</td>\n",
       "      <td>5358.712177</td>\n",
       "      <td>560304.0671</td>\n",
       "      <td>55915.46248</td>\n",
       "    </tr>\n",
       "  </tbody>\n",
       "</table>\n",
       "</div>"
      ],
      "text/plain": [
       "     Customer Name                                    Customer e-mail  \\\n",
       "0    Martina Avila  cubilia.Curae.Phasellus@quisaccumsanconvallis.edu   \n",
       "1    Harlan Barnes                                eu.dolor@diam.co.uk   \n",
       "2  Naomi Rodriquez  vulputate.mauris.sagittis@ametconsectetueradip...   \n",
       "3  Jade Cunningham                            malesuada@dignissim.com   \n",
       "4     Cedric Leach     felis.ullamcorper.viverra@egetmollislectus.net   \n",
       "\n",
       "        Country  Gender        Age  Annual Salary  Credit Card Debt  \\\n",
       "0      Bulgaria       0  41.851720    62812.09301      11609.380910   \n",
       "1        Belize       0  40.870623    66646.89292       9572.957136   \n",
       "2       Algeria       1  43.152897    53798.55112      11160.355060   \n",
       "3  Cook Islands       1  58.271369    79370.03798      14426.164850   \n",
       "4        Brazil       1  57.313749    59729.15130       5358.712177   \n",
       "\n",
       "     Net Worth  Car Purchase Amount  \n",
       "0  238961.2505          35321.45877  \n",
       "1  530973.9078          45115.52566  \n",
       "2  638467.1773          42925.70921  \n",
       "3  548599.0524          67422.36313  \n",
       "4  560304.0671          55915.46248  "
      ]
     },
     "execution_count": 26,
     "metadata": {},
     "output_type": "execute_result"
    }
   ],
   "source": [
    "data = pd.read_csv(\"Car_Purchasing_Data.csv\",encoding='latin1')\n",
    "print(data.shape)\n",
    "data.head()"
   ]
  },
  {
   "cell_type": "code",
   "execution_count": 27,
   "metadata": {},
   "outputs": [],
   "source": [
    "data.drop(['Customer Name','Customer e-mail','Country'],axis=1,inplace=True)"
   ]
  },
  {
   "cell_type": "code",
   "execution_count": 28,
   "metadata": {},
   "outputs": [
    {
     "name": "stdout",
     "output_type": "stream",
     "text": [
      "<class 'pandas.core.frame.DataFrame'>\n",
      "RangeIndex: 500 entries, 0 to 499\n",
      "Data columns (total 6 columns):\n",
      " #   Column               Non-Null Count  Dtype  \n",
      "---  ------               --------------  -----  \n",
      " 0   Gender               500 non-null    int64  \n",
      " 1   Age                  500 non-null    float64\n",
      " 2   Annual Salary        500 non-null    float64\n",
      " 3   Credit Card Debt     500 non-null    float64\n",
      " 4   Net Worth            500 non-null    float64\n",
      " 5   Car Purchase Amount  500 non-null    float64\n",
      "dtypes: float64(5), int64(1)\n",
      "memory usage: 23.6 KB\n"
     ]
    }
   ],
   "source": [
    "data.info()"
   ]
  },
  {
   "cell_type": "markdown",
   "metadata": {},
   "source": [
    "# Missing Values"
   ]
  },
  {
   "cell_type": "code",
   "execution_count": 29,
   "metadata": {},
   "outputs": [
    {
     "data": {
      "text/plain": [
       "Gender                 0\n",
       "Age                    0\n",
       "Annual Salary          0\n",
       "Credit Card Debt       0\n",
       "Net Worth              0\n",
       "Car Purchase Amount    0\n",
       "dtype: int64"
      ]
     },
     "execution_count": 29,
     "metadata": {},
     "output_type": "execute_result"
    }
   ],
   "source": [
    "data.isna().sum()"
   ]
  },
  {
   "cell_type": "markdown",
   "metadata": {},
   "source": [
    "# Correlation in Data"
   ]
  },
  {
   "cell_type": "code",
   "execution_count": 30,
   "metadata": {},
   "outputs": [
    {
     "data": {
      "text/html": [
       "<div>\n",
       "<style scoped>\n",
       "    .dataframe tbody tr th:only-of-type {\n",
       "        vertical-align: middle;\n",
       "    }\n",
       "\n",
       "    .dataframe tbody tr th {\n",
       "        vertical-align: top;\n",
       "    }\n",
       "\n",
       "    .dataframe thead th {\n",
       "        text-align: right;\n",
       "    }\n",
       "</style>\n",
       "<table border=\"1\" class=\"dataframe\">\n",
       "  <thead>\n",
       "    <tr style=\"text-align: right;\">\n",
       "      <th></th>\n",
       "      <th>Gender</th>\n",
       "      <th>Age</th>\n",
       "      <th>Annual Salary</th>\n",
       "      <th>Credit Card Debt</th>\n",
       "      <th>Net Worth</th>\n",
       "      <th>Car Purchase Amount</th>\n",
       "    </tr>\n",
       "  </thead>\n",
       "  <tbody>\n",
       "    <tr>\n",
       "      <th>Gender</th>\n",
       "      <td>1.000000</td>\n",
       "      <td>-0.056822</td>\n",
       "      <td>-0.030455</td>\n",
       "      <td>0.008981</td>\n",
       "      <td>-0.015097</td>\n",
       "      <td>-0.063210</td>\n",
       "    </tr>\n",
       "    <tr>\n",
       "      <th>Age</th>\n",
       "      <td>-0.056822</td>\n",
       "      <td>1.000000</td>\n",
       "      <td>-0.000754</td>\n",
       "      <td>0.016032</td>\n",
       "      <td>0.007663</td>\n",
       "      <td>0.439952</td>\n",
       "    </tr>\n",
       "    <tr>\n",
       "      <th>Annual Salary</th>\n",
       "      <td>-0.030455</td>\n",
       "      <td>-0.000754</td>\n",
       "      <td>1.000000</td>\n",
       "      <td>0.016802</td>\n",
       "      <td>0.009106</td>\n",
       "      <td>0.415776</td>\n",
       "    </tr>\n",
       "    <tr>\n",
       "      <th>Credit Card Debt</th>\n",
       "      <td>0.008981</td>\n",
       "      <td>0.016032</td>\n",
       "      <td>0.016802</td>\n",
       "      <td>1.000000</td>\n",
       "      <td>-0.030413</td>\n",
       "      <td>0.017299</td>\n",
       "    </tr>\n",
       "    <tr>\n",
       "      <th>Net Worth</th>\n",
       "      <td>-0.015097</td>\n",
       "      <td>0.007663</td>\n",
       "      <td>0.009106</td>\n",
       "      <td>-0.030413</td>\n",
       "      <td>1.000000</td>\n",
       "      <td>0.322517</td>\n",
       "    </tr>\n",
       "    <tr>\n",
       "      <th>Car Purchase Amount</th>\n",
       "      <td>-0.063210</td>\n",
       "      <td>0.439952</td>\n",
       "      <td>0.415776</td>\n",
       "      <td>0.017299</td>\n",
       "      <td>0.322517</td>\n",
       "      <td>1.000000</td>\n",
       "    </tr>\n",
       "  </tbody>\n",
       "</table>\n",
       "</div>"
      ],
      "text/plain": [
       "                       Gender       Age  Annual Salary  Credit Card Debt  \\\n",
       "Gender               1.000000 -0.056822      -0.030455          0.008981   \n",
       "Age                 -0.056822  1.000000      -0.000754          0.016032   \n",
       "Annual Salary       -0.030455 -0.000754       1.000000          0.016802   \n",
       "Credit Card Debt     0.008981  0.016032       0.016802          1.000000   \n",
       "Net Worth           -0.015097  0.007663       0.009106         -0.030413   \n",
       "Car Purchase Amount -0.063210  0.439952       0.415776          0.017299   \n",
       "\n",
       "                     Net Worth  Car Purchase Amount  \n",
       "Gender               -0.015097            -0.063210  \n",
       "Age                   0.007663             0.439952  \n",
       "Annual Salary         0.009106             0.415776  \n",
       "Credit Card Debt     -0.030413             0.017299  \n",
       "Net Worth             1.000000             0.322517  \n",
       "Car Purchase Amount   0.322517             1.000000  "
      ]
     },
     "execution_count": 30,
     "metadata": {},
     "output_type": "execute_result"
    }
   ],
   "source": [
    "data.corr(method='kendall')"
   ]
  },
  {
   "cell_type": "code",
   "execution_count": 31,
   "metadata": {
    "scrolled": true
   },
   "outputs": [
    {
     "data": {
      "text/plain": [
       "<matplotlib.axes._subplots.AxesSubplot at 0x29557374c08>"
      ]
     },
     "execution_count": 31,
     "metadata": {},
     "output_type": "execute_result"
    },
    {
     "data": {
      "image/png": "[encoded data removed]",
      "text/plain": [
       "<Figure size 432x288 with 2 Axes>"
      ]
     },
     "metadata": {
      "needs_background": "light"
     },
     "output_type": "display_data"
    }
   ],
   "source": [
    "sns.heatmap(data.corr(method='kendall'),annot=True,cmap='Reds')"
   ]
  },
  {
   "cell_type": "code",
   "execution_count": 32,
   "metadata": {},
   "outputs": [],
   "source": [
    "data.drop(['Gender'],axis=1,inplace=True)"
   ]
  },
  {
   "cell_type": "code",
   "execution_count": 33,
   "metadata": {},
   "outputs": [
    {
     "data": {
      "text/html": [
       "<div>\n",
       "<style scoped>\n",
       "    .dataframe tbody tr th:only-of-type {\n",
       "        vertical-align: middle;\n",
       "    }\n",
       "\n",
       "    .dataframe tbody tr th {\n",
       "        vertical-align: top;\n",
       "    }\n",
       "\n",
       "    .dataframe thead th {\n",
       "        text-align: right;\n",
       "    }\n",
       "</style>\n",
       "<table border=\"1\" class=\"dataframe\">\n",
       "  <thead>\n",
       "    <tr style=\"text-align: right;\">\n",
       "      <th></th>\n",
       "      <th>Age</th>\n",
       "      <th>Annual Salary</th>\n",
       "      <th>Credit Card Debt</th>\n",
       "      <th>Net Worth</th>\n",
       "      <th>Car Purchase Amount</th>\n",
       "    </tr>\n",
       "  </thead>\n",
       "  <tbody>\n",
       "    <tr>\n",
       "      <th>0</th>\n",
       "      <td>41.851720</td>\n",
       "      <td>62812.09301</td>\n",
       "      <td>11609.380910</td>\n",
       "      <td>238961.2505</td>\n",
       "      <td>35321.45877</td>\n",
       "    </tr>\n",
       "    <tr>\n",
       "      <th>1</th>\n",
       "      <td>40.870623</td>\n",
       "      <td>66646.89292</td>\n",
       "      <td>9572.957136</td>\n",
       "      <td>530973.9078</td>\n",
       "      <td>45115.52566</td>\n",
       "    </tr>\n",
       "    <tr>\n",
       "      <th>2</th>\n",
       "      <td>43.152897</td>\n",
       "      <td>53798.55112</td>\n",
       "      <td>11160.355060</td>\n",
       "      <td>638467.1773</td>\n",
       "      <td>42925.70921</td>\n",
       "    </tr>\n",
       "    <tr>\n",
       "      <th>3</th>\n",
       "      <td>58.271369</td>\n",
       "      <td>79370.03798</td>\n",
       "      <td>14426.164850</td>\n",
       "      <td>548599.0524</td>\n",
       "      <td>67422.36313</td>\n",
       "    </tr>\n",
       "    <tr>\n",
       "      <th>4</th>\n",
       "      <td>57.313749</td>\n",
       "      <td>59729.15130</td>\n",
       "      <td>5358.712177</td>\n",
       "      <td>560304.0671</td>\n",
       "      <td>55915.46248</td>\n",
       "    </tr>\n",
       "  </tbody>\n",
       "</table>\n",
       "</div>"
      ],
      "text/plain": [
       "         Age  Annual Salary  Credit Card Debt    Net Worth  \\\n",
       "0  41.851720    62812.09301      11609.380910  238961.2505   \n",
       "1  40.870623    66646.89292       9572.957136  530973.9078   \n",
       "2  43.152897    53798.55112      11160.355060  638467.1773   \n",
       "3  58.271369    79370.03798      14426.164850  548599.0524   \n",
       "4  57.313749    59729.15130       5358.712177  560304.0671   \n",
       "\n",
       "   Car Purchase Amount  \n",
       "0          35321.45877  \n",
       "1          45115.52566  \n",
       "2          42925.70921  \n",
       "3          67422.36313  \n",
       "4          55915.46248  "
      ]
     },
     "execution_count": 33,
     "metadata": {},
     "output_type": "execute_result"
    }
   ],
   "source": [
    "data.head()"
   ]
  },
  {
   "cell_type": "markdown",
   "metadata": {},
   "source": [
    "# Data Standardization"
   ]
  },
  {
   "cell_type": "code",
   "execution_count": 22,
   "metadata": {},
   "outputs": [],
   "source": [
    "y_mean = data['Car Purchase Amount'].mean()\n",
    "y_std = data['Car Purchase Amount'].std()"
   ]
  },
  {
   "cell_type": "code",
   "execution_count": 34,
   "metadata": {},
   "outputs": [
    {
     "data": {
      "text/html": [
       "<div>\n",
       "<style scoped>\n",
       "    .dataframe tbody tr th:only-of-type {\n",
       "        vertical-align: middle;\n",
       "    }\n",
       "\n",
       "    .dataframe tbody tr th {\n",
       "        vertical-align: top;\n",
       "    }\n",
       "\n",
       "    .dataframe thead th {\n",
       "        text-align: right;\n",
       "    }\n",
       "</style>\n",
       "<table border=\"1\" class=\"dataframe\">\n",
       "  <thead>\n",
       "    <tr style=\"text-align: right;\">\n",
       "      <th></th>\n",
       "      <th>Age</th>\n",
       "      <th>Annual Salary</th>\n",
       "      <th>Credit Card Debt</th>\n",
       "      <th>Net Worth</th>\n",
       "      <th>Car Purchase Amount</th>\n",
       "    </tr>\n",
       "  </thead>\n",
       "  <tbody>\n",
       "    <tr>\n",
       "      <th>0</th>\n",
       "      <td>-0.550749</td>\n",
       "      <td>0.058576</td>\n",
       "      <td>0.574271</td>\n",
       "      <td>-1.110469</td>\n",
       "      <td>-0.825870</td>\n",
       "    </tr>\n",
       "    <tr>\n",
       "      <th>1</th>\n",
       "      <td>-0.673834</td>\n",
       "      <td>0.386570</td>\n",
       "      <td>-0.009951</td>\n",
       "      <td>0.573929</td>\n",
       "      <td>0.084157</td>\n",
       "    </tr>\n",
       "    <tr>\n",
       "      <th>2</th>\n",
       "      <td>-0.387508</td>\n",
       "      <td>-0.712361</td>\n",
       "      <td>0.445452</td>\n",
       "      <td>1.193976</td>\n",
       "      <td>-0.119313</td>\n",
       "    </tr>\n",
       "    <tr>\n",
       "      <th>3</th>\n",
       "      <td>1.509206</td>\n",
       "      <td>1.474794</td>\n",
       "      <td>1.382369</td>\n",
       "      <td>0.675595</td>\n",
       "      <td>2.156820</td>\n",
       "    </tr>\n",
       "    <tr>\n",
       "      <th>4</th>\n",
       "      <td>1.389066</td>\n",
       "      <td>-0.205111</td>\n",
       "      <td>-1.218962</td>\n",
       "      <td>0.743113</td>\n",
       "      <td>1.087644</td>\n",
       "    </tr>\n",
       "  </tbody>\n",
       "</table>\n",
       "</div>"
      ],
      "text/plain": [
       "        Age  Annual Salary  Credit Card Debt  Net Worth  Car Purchase Amount\n",
       "0 -0.550749       0.058576          0.574271  -1.110469            -0.825870\n",
       "1 -0.673834       0.386570         -0.009951   0.573929             0.084157\n",
       "2 -0.387508      -0.712361          0.445452   1.193976            -0.119313\n",
       "3  1.509206       1.474794          1.382369   0.675595             2.156820\n",
       "4  1.389066      -0.205111         -1.218962   0.743113             1.087644"
      ]
     },
     "execution_count": 34,
     "metadata": {},
     "output_type": "execute_result"
    }
   ],
   "source": [
    "from sklearn.preprocessing import StandardScaler\n",
    "scaler=StandardScaler().fit(data)\n",
    "data=scaler.transform(data)\n",
    "data=pd.DataFrame(data,columns=['Age','Annual Salary','Credit Card Debt','Net Worth','Car Purchase Amount'])\n",
    "data.head()"
   ]
  },
  {
   "cell_type": "code",
   "execution_count": 74,
   "metadata": {},
   "outputs": [],
   "source": [
    "def convert_label_value(pred):\n",
    "    return (pred * y_std + y_mean)"
   ]
  },
  {
   "cell_type": "markdown",
   "metadata": {},
   "source": [
    "# Create Training and Test Set"
   ]
  },
  {
   "cell_type": "code",
   "execution_count": 42,
   "metadata": {},
   "outputs": [],
   "source": [
    "x=data.iloc[:,:4]\n",
    "y=data.iloc[:,4]"
   ]
  },
  {
   "cell_type": "code",
   "execution_count": 43,
   "metadata": {},
   "outputs": [
    {
     "data": {
      "text/html": [
       "<div>\n",
       "<style scoped>\n",
       "    .dataframe tbody tr th:only-of-type {\n",
       "        vertical-align: middle;\n",
       "    }\n",
       "\n",
       "    .dataframe tbody tr th {\n",
       "        vertical-align: top;\n",
       "    }\n",
       "\n",
       "    .dataframe thead th {\n",
       "        text-align: right;\n",
       "    }\n",
       "</style>\n",
       "<table border=\"1\" class=\"dataframe\">\n",
       "  <thead>\n",
       "    <tr style=\"text-align: right;\">\n",
       "      <th></th>\n",
       "      <th>Age</th>\n",
       "      <th>Annual Salary</th>\n",
       "      <th>Credit Card Debt</th>\n",
       "      <th>Net Worth</th>\n",
       "    </tr>\n",
       "  </thead>\n",
       "  <tbody>\n",
       "    <tr>\n",
       "      <th>0</th>\n",
       "      <td>-0.550749</td>\n",
       "      <td>0.058576</td>\n",
       "      <td>0.574271</td>\n",
       "      <td>-1.110469</td>\n",
       "    </tr>\n",
       "    <tr>\n",
       "      <th>1</th>\n",
       "      <td>-0.673834</td>\n",
       "      <td>0.386570</td>\n",
       "      <td>-0.009951</td>\n",
       "      <td>0.573929</td>\n",
       "    </tr>\n",
       "    <tr>\n",
       "      <th>2</th>\n",
       "      <td>-0.387508</td>\n",
       "      <td>-0.712361</td>\n",
       "      <td>0.445452</td>\n",
       "      <td>1.193976</td>\n",
       "    </tr>\n",
       "    <tr>\n",
       "      <th>3</th>\n",
       "      <td>1.509206</td>\n",
       "      <td>1.474794</td>\n",
       "      <td>1.382369</td>\n",
       "      <td>0.675595</td>\n",
       "    </tr>\n",
       "    <tr>\n",
       "      <th>4</th>\n",
       "      <td>1.389066</td>\n",
       "      <td>-0.205111</td>\n",
       "      <td>-1.218962</td>\n",
       "      <td>0.743113</td>\n",
       "    </tr>\n",
       "  </tbody>\n",
       "</table>\n",
       "</div>"
      ],
      "text/plain": [
       "        Age  Annual Salary  Credit Card Debt  Net Worth\n",
       "0 -0.550749       0.058576          0.574271  -1.110469\n",
       "1 -0.673834       0.386570         -0.009951   0.573929\n",
       "2 -0.387508      -0.712361          0.445452   1.193976\n",
       "3  1.509206       1.474794          1.382369   0.675595\n",
       "4  1.389066      -0.205111         -1.218962   0.743113"
      ]
     },
     "execution_count": 43,
     "metadata": {},
     "output_type": "execute_result"
    }
   ],
   "source": [
    "x.head()"
   ]
  },
  {
   "cell_type": "code",
   "execution_count": 46,
   "metadata": {},
   "outputs": [
    {
     "name": "stdout",
     "output_type": "stream",
     "text": [
      "X_train shape:  (475, 4)\n",
      "y_train shape:  (475,)\n",
      "X_test shape:  (25, 4)\n",
      "y_test shape:  (25,)\n"
     ]
    }
   ],
   "source": [
    "X_train, X_test, y_train, y_test = train_test_split(x, y, test_size = 0.05, shuffle = True)\n",
    "\n",
    "print('X_train shape: ', X_train.shape)\n",
    "print('y_train shape: ', y_train.shape)\n",
    "print('X_test shape: ', X_test.shape)\n",
    "print('y_test shape: ', y_test.shape)"
   ]
  },
  {
   "cell_type": "markdown",
   "metadata": {},
   "source": [
    "# ML Model"
   ]
  },
  {
   "cell_type": "code",
   "execution_count": 47,
   "metadata": {},
   "outputs": [],
   "source": [
    "from sklearn.linear_model import LinearRegression"
   ]
  },
  {
   "cell_type": "code",
   "execution_count": 50,
   "metadata": {},
   "outputs": [],
   "source": [
    "lr = LinearRegression().fit(X_train,y_train)"
   ]
  },
  {
   "cell_type": "code",
   "execution_count": 51,
   "metadata": {},
   "outputs": [
    {
     "name": "stdout",
     "output_type": "stream",
     "text": [
      "[ 6.23282402e-01  6.10885634e-01 -3.35168664e-06  4.66871977e-01]\n",
      "-1.2994878729791735e-06\n"
     ]
    }
   ],
   "source": [
    "print(lr.coef_)\n",
    "print(lr.intercept_)"
   ]
  },
  {
   "cell_type": "markdown",
   "metadata": {},
   "source": [
    "# Errors for Train Data"
   ]
  },
  {
   "cell_type": "code",
   "execution_count": 81,
   "metadata": {},
   "outputs": [],
   "source": [
    "from sklearn.metrics import mean_absolute_error, mean_squared_error"
   ]
  },
  {
   "cell_type": "code",
   "execution_count": 82,
   "metadata": {},
   "outputs": [],
   "source": [
    "predictions_train = lr.predict(X_train)"
   ]
  },
  {
   "cell_type": "code",
   "execution_count": 83,
   "metadata": {},
   "outputs": [
    {
     "name": "stdout",
     "output_type": "stream",
     "text": [
      "MAE Train :  0.00010737354650627733\n"
     ]
    }
   ],
   "source": [
    "error = mean_absolute_error(predictions_train,y_train)\n",
    "print(\"MAE Train : \",error)"
   ]
  },
  {
   "cell_type": "code",
   "execution_count": 84,
   "metadata": {},
   "outputs": [
    {
     "name": "stdout",
     "output_type": "stream",
     "text": [
      "MAE :  1.1567544089147428\n"
     ]
    }
   ],
   "source": [
    "#converting to actual values\n",
    "predicted_prices_train = [convert_label_value(x) for x in predictions_train]\n",
    "actual_prices_train = [convert_label_value(x) for x in y_train]\n",
    "error = mean_absolute_error(predicted_prices_train,actual_prices_train)\n",
    "print(\"MAE : \",error)"
   ]
  },
  {
   "cell_type": "code",
   "execution_count": 85,
   "metadata": {},
   "outputs": [
    {
     "data": {
      "text/plain": [
       "[<matplotlib.lines.Line2D at 0x29557868608>]"
      ]
     },
     "execution_count": 85,
     "metadata": {},
     "output_type": "execute_result"
    },
    {
     "data": {
      "image/png": "[encoded data removed]",
      "text/plain": [
       "<Figure size 576x576 with 1 Axes>"
      ]
     },
     "metadata": {
      "needs_background": "light"
     },
     "output_type": "display_data"
    }
   ],
   "source": [
    "plt.figure(figsize=(8,8))\n",
    "plt.plot(predicted_prices_train,actual_prices_train,'ro',label='Trained Model')\n",
    "plt.xlabel('Prediction Prices')\n",
    "plt.ylabel('Original Prices')\n",
    "plt.grid()\n",
    "plt.title('Original Vs Predicted')\n",
    "\n",
    "y_min = min(min(actual_prices_train), min(predicted_prices_train))\n",
    "y_max = max(max(actual_prices_train), max(predicted_prices_train))\n",
    "\n",
    "plt.xlim([y_min, y_max])\n",
    "plt.ylim([y_min, y_max])\n",
    "plt.plot([y_min, y_max], [y_min, y_max], 'b--')"
   ]
  },
  {
   "cell_type": "code",
   "execution_count": 87,
   "metadata": {},
   "outputs": [
    {
     "data": {
      "text/plain": [
       "Text(0, 0.5, 'Prices')"
      ]
     },
     "execution_count": 87,
     "metadata": {},
     "output_type": "execute_result"
    },
    {
     "data": {
      "image/png": "[encoded data removed]",
      "text/plain": [
       "<Figure size 576x576 with 1 Axes>"
      ]
     },
     "metadata": {
      "needs_background": "light"
     },
     "output_type": "display_data"
    }
   ],
   "source": [
    "plt.figure(figsize=(8,8))\n",
    "plt.plot(range(475),actual_prices_train,'ro',label='Original Prices')\n",
    "plt.plot(range(475),predicted_prices_train,'b*',label='Predicted Prices')\n",
    "plt.legend()\n",
    "plt.ylabel(\"Prices\")"
   ]
  },
  {
   "cell_type": "markdown",
   "metadata": {},
   "source": [
    "# Test Data "
   ]
  },
  {
   "cell_type": "code",
   "execution_count": 88,
   "metadata": {},
   "outputs": [],
   "source": [
    "predictions = lr.predict(X_test)"
   ]
  },
  {
   "cell_type": "code",
   "execution_count": 89,
   "metadata": {},
   "outputs": [
    {
     "name": "stdout",
     "output_type": "stream",
     "text": [
      "MAE :  0.00013812622614223113\n"
     ]
    }
   ],
   "source": [
    "error = mean_absolute_error(predictions,y_test)\n",
    "print(\"MAE : \",error)"
   ]
  },
  {
   "cell_type": "markdown",
   "metadata": {},
   "source": [
    "# Converting Values to Actual Predictions "
   ]
  },
  {
   "cell_type": "code",
   "execution_count": 90,
   "metadata": {},
   "outputs": [],
   "source": [
    "predicted_prices = [convert_label_value(x) for x in predictions]\n",
    "actual_prices = [convert_label_value(x) for x in y_test]"
   ]
  },
  {
   "cell_type": "code",
   "execution_count": 91,
   "metadata": {},
   "outputs": [
    {
     "name": "stdout",
     "output_type": "stream",
     "text": [
      "MAE :  1.4880585234967294\n"
     ]
    }
   ],
   "source": [
    "error = mean_absolute_error(predicted_prices,actual_prices)\n",
    "print(\"MAE : \",error)"
   ]
  },
  {
   "cell_type": "code",
   "execution_count": 92,
   "metadata": {},
   "outputs": [
    {
     "name": "stdout",
     "output_type": "stream",
     "text": [
      "MSE :  3.519869787350491\n"
     ]
    }
   ],
   "source": [
    "error = mean_squared_error(predicted_prices,actual_prices)\n",
    "print(\"MSE : \",error)"
   ]
  },
  {
   "cell_type": "code",
   "execution_count": 93,
   "metadata": {},
   "outputs": [
    {
     "data": {
      "text/plain": [
       "[<matplotlib.lines.Line2D at 0x2955797c208>]"
      ]
     },
     "execution_count": 93,
     "metadata": {},
     "output_type": "execute_result"
    },
    {
     "data": {
      "image/png": "[encoded data removed]",
      "text/plain": [
       "<Figure size 576x576 with 1 Axes>"
      ]
     },
     "metadata": {
      "needs_background": "light"
     },
     "output_type": "display_data"
    }
   ],
   "source": [
    "plt.figure(figsize=(8,8))\n",
    "plt.plot(predicted_prices_train,actual_prices_train,'ro',label='Trained Model')\n",
    "plt.xlabel('Prediction Prices')\n",
    "plt.ylabel('Original Prices')\n",
    "plt.grid()\n",
    "plt.title('Original Vs Predicted')\n",
    "\n",
    "y_min = min(min(actual_prices), min(predicted_prices))\n",
    "y_max = max(max(actual_prices), max(predicted_prices))\n",
    "\n",
    "plt.xlim([y_min, y_max])\n",
    "plt.ylim([y_min, y_max])\n",
    "plt.plot([y_min, y_max], [y_min, y_max], 'b--')"
   ]
  },
  {
   "cell_type": "code",
   "execution_count": 94,
   "metadata": {},
   "outputs": [
    {
     "data": {
      "text/plain": [
       "Text(0, 0.5, 'Prices')"
      ]
     },
     "execution_count": 94,
     "metadata": {},
     "output_type": "execute_result"
    },
    {
     "data": {
      "image/png": "[encoded data removed]",
      "text/plain": [
       "<Figure size 576x576 with 1 Axes>"
      ]
     },
     "metadata": {
      "needs_background": "light"
     },
     "output_type": "display_data"
    }
   ],
   "source": [
    "plt.figure(figsize=(8,8))\n",
    "plt.plot(range(25),actual_prices,'ro',label='Original Prices')\n",
    "plt.plot(range(25),predicted_prices,'b*',label='Predicted Prices')\n",
    "plt.legend()\n",
    "plt.ylabel(\"Prices\")"
   ]
  },
  {
   "cell_type": "markdown",
   "metadata": {},
   "source": [
    "# DL Model\n"
   ]
  },
  {
   "cell_type": "code",
   "execution_count": 101,
   "metadata": {},
   "outputs": [],
   "source": [
    "import tensorflow as tf\n",
    "from tensorflow.keras import Sequential\n",
    "from tensorflow.keras.layers import Dense, Dropout\n",
    "from tensorflow.keras.callbacks import EarlyStopping"
   ]
  },
  {
   "cell_type": "code",
   "execution_count": 135,
   "metadata": {},
   "outputs": [
    {
     "name": "stdout",
     "output_type": "stream",
     "text": [
      "Model: \"sequential_8\"\n",
      "_________________________________________________________________\n",
      "Layer (type)                 Output Shape              Param #   \n",
      "=================================================================\n",
      "dense_32 (Dense)             (None, 10)                50        \n",
      "_________________________________________________________________\n",
      "dense_33 (Dense)             (None, 20)                220       \n",
      "_________________________________________________________________\n",
      "dense_34 (Dense)             (None, 5)                 105       \n",
      "_________________________________________________________________\n",
      "dense_35 (Dense)             (None, 1)                 6         \n",
      "=================================================================\n",
      "Total params: 381\n",
      "Trainable params: 381\n",
      "Non-trainable params: 0\n",
      "_________________________________________________________________\n"
     ]
    }
   ],
   "source": [
    "def get_model():\n",
    "    \n",
    "    model = Sequential([\n",
    "        Dense(10, input_shape = (4,), activation = 'relu',kernel_initializer='he_uniform'),\n",
    "        Dense(20, activation = 'relu',kernel_initializer='he_uniform'),\n",
    "        Dense(5, activation = 'relu',kernel_initializer='he_uniform'),\n",
    "        Dense(1)        \n",
    "    ])\n",
    "\n",
    "    model.compile(\n",
    "        loss='mse',\n",
    "        optimizer=tf.keras.optimizers.RMSprop(learning_rate=0.001,rho=0.9,momentum=0.9,epsilon=1e-07),\n",
    "        metrics=[tf.keras.metrics.MeanAbsoluteError()]\n",
    "    )\n",
    "    \n",
    "    return model\n",
    "\n",
    "model = get_model()\n",
    "model.summary()"
   ]
  },
  {
   "cell_type": "code",
   "execution_count": 136,
   "metadata": {},
   "outputs": [
    {
     "name": "stdout",
     "output_type": "stream",
     "text": [
      "Train on 451 samples, validate on 24 samples\n",
      "Epoch 1/500\n",
      "451/451 [==============================] - 1s 3ms/sample - loss: 0.7954 - mean_absolute_error: 0.6592 - val_loss: 0.1768 - val_mean_absolute_error: 0.3528\n",
      "Epoch 2/500\n",
      "451/451 [==============================] - 0s 296us/sample - loss: 0.1056 - mean_absolute_error: 0.2416 - val_loss: 0.0530 - val_mean_absolute_error: 0.1765\n",
      "Epoch 3/500\n",
      "451/451 [==============================] - 0s 301us/sample - loss: 0.0336 - mean_absolute_error: 0.1355 - val_loss: 0.0640 - val_mean_absolute_error: 0.2036\n",
      "Epoch 4/500\n",
      "451/451 [==============================] - 0s 296us/sample - loss: 0.0245 - mean_absolute_error: 0.1174 - val_loss: 0.0333 - val_mean_absolute_error: 0.1301\n",
      "Epoch 5/500\n",
      "451/451 [==============================] - 0s 302us/sample - loss: 0.0159 - mean_absolute_error: 0.0943 - val_loss: 0.0354 - val_mean_absolute_error: 0.1332\n",
      "Epoch 6/500\n",
      "451/451 [==============================] - 0s 301us/sample - loss: 0.0105 - mean_absolute_error: 0.0748 - val_loss: 0.0172 - val_mean_absolute_error: 0.0951\n",
      "Epoch 7/500\n",
      "451/451 [==============================] - 0s 294us/sample - loss: 0.0065 - mean_absolute_error: 0.0609 - val_loss: 0.0159 - val_mean_absolute_error: 0.0983\n",
      "Epoch 8/500\n",
      "451/451 [==============================] - 0s 301us/sample - loss: 0.0064 - mean_absolute_error: 0.0616 - val_loss: 0.0119 - val_mean_absolute_error: 0.0808\n",
      "Epoch 9/500\n",
      "451/451 [==============================] - 0s 303us/sample - loss: 0.0067 - mean_absolute_error: 0.0617 - val_loss: 0.0136 - val_mean_absolute_error: 0.0840\n",
      "Epoch 10/500\n",
      "451/451 [==============================] - 0s 294us/sample - loss: 0.0061 - mean_absolute_error: 0.0613 - val_loss: 0.0100 - val_mean_absolute_error: 0.0730\n",
      "Epoch 11/500\n",
      "451/451 [==============================] - 0s 294us/sample - loss: 0.0038 - mean_absolute_error: 0.0465 - val_loss: 0.0059 - val_mean_absolute_error: 0.0597\n",
      "Epoch 12/500\n",
      "451/451 [==============================] - 0s 296us/sample - loss: 0.0037 - mean_absolute_error: 0.0460 - val_loss: 0.0086 - val_mean_absolute_error: 0.0602\n",
      "Epoch 13/500\n",
      "451/451 [==============================] - 0s 301us/sample - loss: 0.0036 - mean_absolute_error: 0.0454 - val_loss: 0.0068 - val_mean_absolute_error: 0.0629\n",
      "Epoch 14/500\n",
      "451/451 [==============================] - 0s 299us/sample - loss: 0.0025 - mean_absolute_error: 0.0382 - val_loss: 0.0068 - val_mean_absolute_error: 0.0639\n",
      "Epoch 15/500\n",
      "451/451 [==============================] - 0s 296us/sample - loss: 0.0023 - mean_absolute_error: 0.0356 - val_loss: 0.0030 - val_mean_absolute_error: 0.0429\n",
      "Epoch 16/500\n",
      "451/451 [==============================] - 0s 288us/sample - loss: 0.0021 - mean_absolute_error: 0.0341 - val_loss: 0.0030 - val_mean_absolute_error: 0.0385\n",
      "Epoch 17/500\n",
      "451/451 [==============================] - 0s 299us/sample - loss: 0.0042 - mean_absolute_error: 0.0480 - val_loss: 0.0064 - val_mean_absolute_error: 0.0709\n",
      "Epoch 18/500\n",
      "451/451 [==============================] - 0s 292us/sample - loss: 0.0024 - mean_absolute_error: 0.0381 - val_loss: 0.0017 - val_mean_absolute_error: 0.0315\n",
      "Epoch 19/500\n",
      "451/451 [==============================] - 0s 296us/sample - loss: 0.0014 - mean_absolute_error: 0.0289 - val_loss: 0.0025 - val_mean_absolute_error: 0.0340\n",
      "Epoch 20/500\n",
      "451/451 [==============================] - 0s 299us/sample - loss: 0.0017 - mean_absolute_error: 0.0309 - val_loss: 0.0016 - val_mean_absolute_error: 0.0299\n",
      "Epoch 21/500\n",
      "451/451 [==============================] - 0s 303us/sample - loss: 0.0013 - mean_absolute_error: 0.0273 - val_loss: 0.0026 - val_mean_absolute_error: 0.0413\n",
      "Epoch 22/500\n",
      "451/451 [==============================] - 0s 301us/sample - loss: 0.0017 - mean_absolute_error: 0.0327 - val_loss: 0.0022 - val_mean_absolute_error: 0.0303\n",
      "Epoch 23/500\n",
      "451/451 [==============================] - 0s 301us/sample - loss: 0.0015 - mean_absolute_error: 0.0291 - val_loss: 0.0018 - val_mean_absolute_error: 0.0322\n",
      "Epoch 24/500\n",
      "451/451 [==============================] - 0s 296us/sample - loss: 0.0012 - mean_absolute_error: 0.0265 - val_loss: 0.0011 - val_mean_absolute_error: 0.0264\n",
      "Epoch 25/500\n",
      "451/451 [==============================] - 0s 389us/sample - loss: 0.0010 - mean_absolute_error: 0.0237 - val_loss: 0.0014 - val_mean_absolute_error: 0.0311\n",
      "Epoch 26/500\n",
      "451/451 [==============================] - 0s 568us/sample - loss: 0.0014 - mean_absolute_error: 0.0295 - val_loss: 9.7299e-04 - val_mean_absolute_error: 0.0234\n",
      "Epoch 27/500\n",
      "451/451 [==============================] - 0s 579us/sample - loss: 8.9537e-04 - mean_absolute_error: 0.0227 - val_loss: 0.0013 - val_mean_absolute_error: 0.0308\n",
      "Epoch 28/500\n",
      "451/451 [==============================] - 0s 550us/sample - loss: 0.0015 - mean_absolute_error: 0.0283 - val_loss: 0.0063 - val_mean_absolute_error: 0.0681\n",
      "Epoch 29/500\n",
      "451/451 [==============================] - 0s 559us/sample - loss: 0.0020 - mean_absolute_error: 0.0349 - val_loss: 0.0011 - val_mean_absolute_error: 0.0242\n",
      "Epoch 30/500\n",
      "451/451 [==============================] - 0s 566us/sample - loss: 0.0018 - mean_absolute_error: 0.0321 - val_loss: 0.0012 - val_mean_absolute_error: 0.0270\n",
      "Epoch 31/500\n",
      "451/451 [==============================] - 0s 582us/sample - loss: 7.7857e-04 - mean_absolute_error: 0.0202 - val_loss: 7.9335e-04 - val_mean_absolute_error: 0.0236\n",
      "Epoch 32/500\n",
      "451/451 [==============================] - 0s 557us/sample - loss: 7.7430e-04 - mean_absolute_error: 0.0210 - val_loss: 8.2406e-04 - val_mean_absolute_error: 0.0225\n",
      "Epoch 33/500\n",
      "451/451 [==============================] - 0s 586us/sample - loss: 6.4084e-04 - mean_absolute_error: 0.0191 - val_loss: 0.0023 - val_mean_absolute_error: 0.0308\n",
      "Epoch 34/500\n",
      "451/451 [==============================] - 0s 568us/sample - loss: 8.4791e-04 - mean_absolute_error: 0.0218 - val_loss: 0.0010 - val_mean_absolute_error: 0.0257\n",
      "Epoch 35/500\n",
      "451/451 [==============================] - 0s 560us/sample - loss: 5.3286e-04 - mean_absolute_error: 0.0180 - val_loss: 7.8335e-04 - val_mean_absolute_error: 0.0228\n",
      "Epoch 36/500\n",
      "451/451 [==============================] - 0s 578us/sample - loss: 6.3988e-04 - mean_absolute_error: 0.0193 - val_loss: 6.7213e-04 - val_mean_absolute_error: 0.0189\n",
      "Epoch 37/500\n",
      "451/451 [==============================] - 0s 566us/sample - loss: 0.0011 - mean_absolute_error: 0.0256 - val_loss: 0.0020 - val_mean_absolute_error: 0.0294\n",
      "Epoch 38/500\n",
      "451/451 [==============================] - 0s 626us/sample - loss: 8.9566e-04 - mean_absolute_error: 0.0233 - val_loss: 7.7658e-04 - val_mean_absolute_error: 0.0211\n",
      "Epoch 39/500\n",
      "451/451 [==============================] - 0s 584us/sample - loss: 5.7600e-04 - mean_absolute_error: 0.0178 - val_loss: 2.6004e-04 - val_mean_absolute_error: 0.0118\n",
      "Epoch 40/500\n",
      "451/451 [==============================] - 0s 550us/sample - loss: 5.5398e-04 - mean_absolute_error: 0.0178 - val_loss: 4.4896e-04 - val_mean_absolute_error: 0.0149\n",
      "Epoch 41/500\n",
      "451/451 [==============================] - 0s 566us/sample - loss: 7.0018e-04 - mean_absolute_error: 0.0204 - val_loss: 0.0017 - val_mean_absolute_error: 0.0263\n",
      "Epoch 42/500\n",
      "451/451 [==============================] - 0s 513us/sample - loss: 0.0011 - mean_absolute_error: 0.0266 - val_loss: 7.3688e-04 - val_mean_absolute_error: 0.0230\n",
      "Epoch 43/500\n",
      "451/451 [==============================] - 0s 490us/sample - loss: 8.2451e-04 - mean_absolute_error: 0.0215 - val_loss: 0.0014 - val_mean_absolute_error: 0.0240\n",
      "Epoch 44/500\n",
      "451/451 [==============================] - 0s 492us/sample - loss: 0.0012 - mean_absolute_error: 0.0268 - val_loss: 0.0012 - val_mean_absolute_error: 0.0257\n",
      "Epoch 45/500\n",
      "451/451 [==============================] - 0s 509us/sample - loss: 0.0011 - mean_absolute_error: 0.0248 - val_loss: 0.0018 - val_mean_absolute_error: 0.0335\n",
      "Epoch 46/500\n",
      "451/451 [==============================] - 0s 471us/sample - loss: 7.7847e-04 - mean_absolute_error: 0.0210 - val_loss: 7.1625e-04 - val_mean_absolute_error: 0.0191\n",
      "Epoch 47/500\n",
      "451/451 [==============================] - 0s 513us/sample - loss: 8.5688e-04 - mean_absolute_error: 0.0210 - val_loss: 0.0013 - val_mean_absolute_error: 0.0305\n",
      "Epoch 48/500\n"
     ]
    },
    {
     "name": "stdout",
     "output_type": "stream",
     "text": [
      "451/451 [==============================] - 0s 502us/sample - loss: 4.3812e-04 - mean_absolute_error: 0.0161 - val_loss: 3.0489e-04 - val_mean_absolute_error: 0.0139\n",
      "Epoch 49/500\n",
      "451/451 [==============================] - 0s 484us/sample - loss: 9.4136e-04 - mean_absolute_error: 0.0243 - val_loss: 0.0034 - val_mean_absolute_error: 0.0456\n",
      "Epoch 50/500\n",
      "451/451 [==============================] - 0s 492us/sample - loss: 0.0012 - mean_absolute_error: 0.0244 - val_loss: 5.6056e-04 - val_mean_absolute_error: 0.0194\n",
      "Epoch 51/500\n",
      "451/451 [==============================] - 0s 464us/sample - loss: 4.3475e-04 - mean_absolute_error: 0.0165 - val_loss: 0.0015 - val_mean_absolute_error: 0.0283\n",
      "Epoch 52/500\n",
      "451/451 [==============================] - 0s 480us/sample - loss: 0.0012 - mean_absolute_error: 0.0267 - val_loss: 0.0017 - val_mean_absolute_error: 0.0251\n",
      "Epoch 53/500\n",
      "451/451 [==============================] - 0s 489us/sample - loss: 6.8051e-04 - mean_absolute_error: 0.0189 - val_loss: 0.0013 - val_mean_absolute_error: 0.0281\n",
      "Epoch 54/500\n",
      "451/451 [==============================] - 0s 480us/sample - loss: 9.8320e-04 - mean_absolute_error: 0.0234 - val_loss: 0.0017 - val_mean_absolute_error: 0.0319\n",
      "Epoch 55/500\n",
      "451/451 [==============================] - 0s 461us/sample - loss: 5.6026e-04 - mean_absolute_error: 0.0172 - val_loss: 7.4941e-04 - val_mean_absolute_error: 0.0192\n",
      "Epoch 56/500\n",
      "451/451 [==============================] - 0s 467us/sample - loss: 3.0057e-04 - mean_absolute_error: 0.0135 - val_loss: 0.0013 - val_mean_absolute_error: 0.0294\n",
      "Epoch 57/500\n",
      "451/451 [==============================] - 0s 495us/sample - loss: 0.0014 - mean_absolute_error: 0.0289 - val_loss: 8.8247e-04 - val_mean_absolute_error: 0.0208\n",
      "Epoch 58/500\n",
      "451/451 [==============================] - 0s 526us/sample - loss: 0.0014 - mean_absolute_error: 0.0278 - val_loss: 0.0015 - val_mean_absolute_error: 0.0275\n",
      "Epoch 59/500\n",
      "451/451 [==============================] - 0s 537us/sample - loss: 9.6512e-04 - mean_absolute_error: 0.0240 - val_loss: 4.1280e-04 - val_mean_absolute_error: 0.0171\n",
      "Epoch 60/500\n",
      "451/451 [==============================] - 0s 555us/sample - loss: 8.6720e-04 - mean_absolute_error: 0.0230 - val_loss: 0.0011 - val_mean_absolute_error: 0.0254\n",
      "Epoch 61/500\n",
      "451/451 [==============================] - 0s 572us/sample - loss: 5.4605e-04 - mean_absolute_error: 0.0173 - val_loss: 5.8610e-04 - val_mean_absolute_error: 0.0191\n",
      "Epoch 62/500\n",
      "451/451 [==============================] - 0s 600us/sample - loss: 8.2277e-04 - mean_absolute_error: 0.0213 - val_loss: 8.6193e-04 - val_mean_absolute_error: 0.0214\n",
      "Epoch 63/500\n",
      "451/451 [==============================] - 0s 618us/sample - loss: 4.9970e-04 - mean_absolute_error: 0.0170 - val_loss: 4.5050e-04 - val_mean_absolute_error: 0.0154\n",
      "Epoch 64/500\n",
      "451/451 [==============================] - 0s 571us/sample - loss: 2.2834e-04 - mean_absolute_error: 0.0115 - val_loss: 5.3730e-04 - val_mean_absolute_error: 0.0181\n",
      "Epoch 65/500\n",
      "451/451 [==============================] - 0s 577us/sample - loss: 3.2889e-04 - mean_absolute_error: 0.0139 - val_loss: 1.8957e-04 - val_mean_absolute_error: 0.0091\n",
      "Epoch 66/500\n",
      "451/451 [==============================] - 0s 551us/sample - loss: 2.3489e-04 - mean_absolute_error: 0.0120 - val_loss: 0.0011 - val_mean_absolute_error: 0.0264\n",
      "Epoch 67/500\n",
      "451/451 [==============================] - 0s 549us/sample - loss: 9.9081e-04 - mean_absolute_error: 0.0238 - val_loss: 0.0014 - val_mean_absolute_error: 0.0274\n",
      "Epoch 68/500\n",
      "451/451 [==============================] - 0s 528us/sample - loss: 7.8448e-04 - mean_absolute_error: 0.0213 - val_loss: 9.6224e-04 - val_mean_absolute_error: 0.0245\n",
      "Epoch 69/500\n",
      "451/451 [==============================] - 0s 564us/sample - loss: 6.6483e-04 - mean_absolute_error: 0.0201 - val_loss: 9.1614e-04 - val_mean_absolute_error: 0.0237\n",
      "Epoch 70/500\n",
      "451/451 [==============================] - 0s 551us/sample - loss: 4.7227e-04 - mean_absolute_error: 0.0163 - val_loss: 8.9506e-04 - val_mean_absolute_error: 0.0245\n",
      "Epoch 71/500\n",
      "451/451 [==============================] - 0s 554us/sample - loss: 8.8444e-04 - mean_absolute_error: 0.0218 - val_loss: 0.0024 - val_mean_absolute_error: 0.0377\n",
      "Epoch 72/500\n",
      "451/451 [==============================] - 0s 555us/sample - loss: 9.6848e-04 - mean_absolute_error: 0.0237 - val_loss: 0.0027 - val_mean_absolute_error: 0.0369\n",
      "Epoch 73/500\n",
      "451/451 [==============================] - 0s 559us/sample - loss: 0.0011 - mean_absolute_error: 0.0252 - val_loss: 2.6282e-04 - val_mean_absolute_error: 0.0123\n",
      "Epoch 74/500\n",
      "451/451 [==============================] - 0s 540us/sample - loss: 7.3563e-04 - mean_absolute_error: 0.0204 - val_loss: 4.1404e-04 - val_mean_absolute_error: 0.0152\n",
      "Epoch 75/500\n",
      "451/451 [==============================] - 0s 554us/sample - loss: 3.6367e-04 - mean_absolute_error: 0.0145 - val_loss: 6.9690e-04 - val_mean_absolute_error: 0.0205\n",
      "Epoch 76/500\n",
      "451/451 [==============================] - 0s 553us/sample - loss: 2.0353e-04 - mean_absolute_error: 0.0107 - val_loss: 4.7849e-04 - val_mean_absolute_error: 0.0163\n",
      "Epoch 77/500\n",
      "451/451 [==============================] - 0s 547us/sample - loss: 1.8137e-04 - mean_absolute_error: 0.0102 - val_loss: 1.7245e-04 - val_mean_absolute_error: 0.0097\n",
      "Epoch 78/500\n",
      "451/451 [==============================] - 0s 551us/sample - loss: 3.0521e-04 - mean_absolute_error: 0.0135 - val_loss: 2.2150e-04 - val_mean_absolute_error: 0.0108\n",
      "Epoch 79/500\n",
      "451/451 [==============================] - 0s 559us/sample - loss: 2.3954e-04 - mean_absolute_error: 0.0117 - val_loss: 0.0015 - val_mean_absolute_error: 0.0256\n",
      "Epoch 80/500\n",
      "451/451 [==============================] - 0s 544us/sample - loss: 7.4173e-04 - mean_absolute_error: 0.0215 - val_loss: 0.0012 - val_mean_absolute_error: 0.0243\n",
      "Epoch 81/500\n",
      "451/451 [==============================] - 0s 559us/sample - loss: 8.3710e-04 - mean_absolute_error: 0.0216 - val_loss: 0.0012 - val_mean_absolute_error: 0.0287\n",
      "Epoch 82/500\n",
      "451/451 [==============================] - 0s 543us/sample - loss: 7.7836e-04 - mean_absolute_error: 0.0213 - val_loss: 3.5681e-04 - val_mean_absolute_error: 0.0155\n",
      "Epoch 83/500\n",
      "451/451 [==============================] - 0s 544us/sample - loss: 5.4845e-04 - mean_absolute_error: 0.0171 - val_loss: 0.0018 - val_mean_absolute_error: 0.0307\n",
      "Epoch 84/500\n",
      "451/451 [==============================] - 0s 557us/sample - loss: 5.1253e-04 - mean_absolute_error: 0.0164 - val_loss: 3.0639e-04 - val_mean_absolute_error: 0.0117\n",
      "Epoch 85/500\n",
      "451/451 [==============================] - 0s 557us/sample - loss: 2.4623e-04 - mean_absolute_error: 0.0119 - val_loss: 2.2069e-04 - val_mean_absolute_error: 0.0117\n",
      "Epoch 86/500\n",
      "451/451 [==============================] - 0s 561us/sample - loss: 9.4728e-05 - mean_absolute_error: 0.0075 - val_loss: 6.6172e-04 - val_mean_absolute_error: 0.0145\n",
      "Epoch 87/500\n",
      "451/451 [==============================] - 0s 548us/sample - loss: 6.7363e-04 - mean_absolute_error: 0.0196 - val_loss: 0.0013 - val_mean_absolute_error: 0.0276\n",
      "Epoch 88/500\n",
      "451/451 [==============================] - 0s 550us/sample - loss: 7.1323e-04 - mean_absolute_error: 0.0206 - val_loss: 0.0011 - val_mean_absolute_error: 0.0223\n",
      "Epoch 89/500\n",
      "451/451 [==============================] - 0s 566us/sample - loss: 0.0012 - mean_absolute_error: 0.0263 - val_loss: 0.0026 - val_mean_absolute_error: 0.0439\n",
      "Epoch 90/500\n",
      "451/451 [==============================] - 0s 559us/sample - loss: 0.0020 - mean_absolute_error: 0.0360 - val_loss: 9.0402e-04 - val_mean_absolute_error: 0.0219\n",
      "Epoch 91/500\n",
      "451/451 [==============================] - 0s 548us/sample - loss: 5.2984e-04 - mean_absolute_error: 0.0175 - val_loss: 3.6888e-04 - val_mean_absolute_error: 0.0145\n",
      "Epoch 92/500\n",
      "451/451 [==============================] - 0s 552us/sample - loss: 2.9324e-04 - mean_absolute_error: 0.0133 - val_loss: 1.1991e-04 - val_mean_absolute_error: 0.0086\n",
      "Epoch 93/500\n",
      "451/451 [==============================] - 0s 555us/sample - loss: 2.7713e-04 - mean_absolute_error: 0.0127 - val_loss: 4.2923e-04 - val_mean_absolute_error: 0.0148\n",
      "Epoch 94/500\n",
      "451/451 [==============================] - 0s 554us/sample - loss: 7.9057e-04 - mean_absolute_error: 0.0197 - val_loss: 3.1248e-04 - val_mean_absolute_error: 0.0136\n"
     ]
    },
    {
     "name": "stdout",
     "output_type": "stream",
     "text": [
      "Epoch 95/500\n",
      "451/451 [==============================] - 0s 548us/sample - loss: 7.2752e-04 - mean_absolute_error: 0.0198 - val_loss: 0.0014 - val_mean_absolute_error: 0.0270\n",
      "Epoch 96/500\n",
      "451/451 [==============================] - 0s 546us/sample - loss: 7.7465e-04 - mean_absolute_error: 0.0214 - val_loss: 2.4343e-04 - val_mean_absolute_error: 0.0104\n",
      "Epoch 97/500\n",
      "451/451 [==============================] - 0s 555us/sample - loss: 1.0142e-04 - mean_absolute_error: 0.0076 - val_loss: 2.1562e-04 - val_mean_absolute_error: 0.0125\n",
      "Epoch 98/500\n",
      "451/451 [==============================] - 0s 536us/sample - loss: 2.0877e-04 - mean_absolute_error: 0.0112 - val_loss: 5.8048e-04 - val_mean_absolute_error: 0.0166\n",
      "Epoch 99/500\n",
      "451/451 [==============================] - 0s 551us/sample - loss: 1.7567e-04 - mean_absolute_error: 0.0093 - val_loss: 8.9578e-04 - val_mean_absolute_error: 0.0187\n",
      "Epoch 100/500\n",
      "451/451 [==============================] - 0s 539us/sample - loss: 4.3767e-04 - mean_absolute_error: 0.0155 - val_loss: 5.2989e-04 - val_mean_absolute_error: 0.0128\n",
      "Epoch 101/500\n",
      "451/451 [==============================] - 0s 540us/sample - loss: 5.3973e-04 - mean_absolute_error: 0.0171 - val_loss: 1.7946e-04 - val_mean_absolute_error: 0.0098\n",
      "Epoch 102/500\n",
      "451/451 [==============================] - 0s 549us/sample - loss: 3.6428e-04 - mean_absolute_error: 0.0143 - val_loss: 3.3886e-04 - val_mean_absolute_error: 0.0130\n",
      "Epoch 103/500\n",
      "451/451 [==============================] - 0s 557us/sample - loss: 2.8229e-04 - mean_absolute_error: 0.0124 - val_loss: 7.8936e-04 - val_mean_absolute_error: 0.0203\n",
      "Epoch 104/500\n",
      "451/451 [==============================] - 0s 552us/sample - loss: 3.7329e-04 - mean_absolute_error: 0.0140 - val_loss: 3.4275e-04 - val_mean_absolute_error: 0.0144\n",
      "Epoch 105/500\n",
      "451/451 [==============================] - 0s 540us/sample - loss: 2.0275e-04 - mean_absolute_error: 0.0107 - val_loss: 1.8852e-04 - val_mean_absolute_error: 0.0089\n",
      "Epoch 106/500\n",
      "451/451 [==============================] - 0s 554us/sample - loss: 2.4095e-04 - mean_absolute_error: 0.0115 - val_loss: 1.3654e-04 - val_mean_absolute_error: 0.0092\n",
      "Epoch 107/500\n",
      "451/451 [==============================] - 0s 564us/sample - loss: 6.4353e-04 - mean_absolute_error: 0.0169 - val_loss: 4.8120e-04 - val_mean_absolute_error: 0.0148\n",
      "Epoch 108/500\n",
      "451/451 [==============================] - 0s 551us/sample - loss: 2.7330e-04 - mean_absolute_error: 0.0121 - val_loss: 2.6399e-04 - val_mean_absolute_error: 0.0150\n",
      "Epoch 109/500\n",
      "451/451 [==============================] - 0s 559us/sample - loss: 3.7217e-04 - mean_absolute_error: 0.0150 - val_loss: 5.0317e-04 - val_mean_absolute_error: 0.0163\n",
      "Epoch 110/500\n",
      "451/451 [==============================] - 0s 542us/sample - loss: 3.1747e-04 - mean_absolute_error: 0.0136 - val_loss: 5.2803e-04 - val_mean_absolute_error: 0.0126\n",
      "Epoch 111/500\n",
      "451/451 [==============================] - 0s 559us/sample - loss: 3.0460e-04 - mean_absolute_error: 0.0129 - val_loss: 1.4275e-04 - val_mean_absolute_error: 0.0100\n",
      "Epoch 112/500\n",
      "451/451 [==============================] - 0s 556us/sample - loss: 2.6568e-04 - mean_absolute_error: 0.0129 - val_loss: 1.3515e-04 - val_mean_absolute_error: 0.0094\n",
      "Epoch 113/500\n",
      "451/451 [==============================] - 0s 551us/sample - loss: 3.6040e-04 - mean_absolute_error: 0.0140 - val_loss: 2.0216e-04 - val_mean_absolute_error: 0.0105\n",
      "Epoch 114/500\n",
      "451/451 [==============================] - 0s 562us/sample - loss: 2.6697e-04 - mean_absolute_error: 0.0123 - val_loss: 0.0011 - val_mean_absolute_error: 0.0243\n",
      "Epoch 115/500\n",
      "451/451 [==============================] - 0s 535us/sample - loss: 8.2495e-04 - mean_absolute_error: 0.0206 - val_loss: 5.3142e-04 - val_mean_absolute_error: 0.0173\n",
      "Epoch 116/500\n",
      "451/451 [==============================] - 0s 390us/sample - loss: 1.8317e-04 - mean_absolute_error: 0.0099 - val_loss: 1.3980e-04 - val_mean_absolute_error: 0.0093\n",
      "Epoch 117/500\n",
      "451/451 [==============================] - 0s 542us/sample - loss: 1.8553e-04 - mean_absolute_error: 0.0101 - val_loss: 1.4262e-04 - val_mean_absolute_error: 0.0092\n",
      "Epoch 118/500\n",
      "451/451 [==============================] - 0s 555us/sample - loss: 1.0499e-04 - mean_absolute_error: 0.0080 - val_loss: 3.2371e-04 - val_mean_absolute_error: 0.0123\n",
      "Epoch 119/500\n",
      "451/451 [==============================] - 0s 553us/sample - loss: 2.9577e-04 - mean_absolute_error: 0.0129 - val_loss: 1.4132e-04 - val_mean_absolute_error: 0.0090\n",
      "Epoch 120/500\n",
      "451/451 [==============================] - 0s 548us/sample - loss: 8.6772e-05 - mean_absolute_error: 0.0071 - val_loss: 2.3608e-04 - val_mean_absolute_error: 0.0127\n",
      "Epoch 121/500\n",
      "451/451 [==============================] - 0s 560us/sample - loss: 3.8099e-04 - mean_absolute_error: 0.0154 - val_loss: 3.9526e-04 - val_mean_absolute_error: 0.0153\n",
      "Epoch 122/500\n",
      "451/451 [==============================] - 0s 551us/sample - loss: 6.5289e-04 - mean_absolute_error: 0.0181 - val_loss: 4.8635e-04 - val_mean_absolute_error: 0.0147\n",
      "Epoch 123/500\n",
      "451/451 [==============================] - 0s 559us/sample - loss: 3.7109e-04 - mean_absolute_error: 0.0141 - val_loss: 1.1500e-04 - val_mean_absolute_error: 0.0087\n",
      "Epoch 124/500\n",
      "451/451 [==============================] - 0s 551us/sample - loss: 1.7958e-04 - mean_absolute_error: 0.0096 - val_loss: 4.6798e-04 - val_mean_absolute_error: 0.0177\n",
      "Epoch 125/500\n",
      "451/451 [==============================] - 0s 546us/sample - loss: 3.0809e-04 - mean_absolute_error: 0.0128 - val_loss: 3.6468e-04 - val_mean_absolute_error: 0.0155\n",
      "Epoch 126/500\n",
      "451/451 [==============================] - 0s 551us/sample - loss: 1.8747e-04 - mean_absolute_error: 0.0104 - val_loss: 6.1738e-05 - val_mean_absolute_error: 0.0060\n",
      "Epoch 127/500\n",
      "451/451 [==============================] - 0s 551us/sample - loss: 7.6578e-05 - mean_absolute_error: 0.0067 - val_loss: 2.5995e-04 - val_mean_absolute_error: 0.0126\n",
      "Epoch 128/500\n",
      "451/451 [==============================] - 0s 564us/sample - loss: 1.7000e-04 - mean_absolute_error: 0.0101 - val_loss: 5.1898e-04 - val_mean_absolute_error: 0.0150\n",
      "Epoch 129/500\n",
      "451/451 [==============================] - 0s 546us/sample - loss: 5.5107e-04 - mean_absolute_error: 0.0184 - val_loss: 0.0012 - val_mean_absolute_error: 0.0201\n",
      "Epoch 130/500\n",
      "451/451 [==============================] - 0s 548us/sample - loss: 8.2866e-04 - mean_absolute_error: 0.0218 - val_loss: 0.0015 - val_mean_absolute_error: 0.0225\n",
      "Epoch 131/500\n",
      "451/451 [==============================] - 0s 546us/sample - loss: 9.2077e-04 - mean_absolute_error: 0.0210 - val_loss: 6.4783e-04 - val_mean_absolute_error: 0.0220\n",
      "Epoch 132/500\n",
      "451/451 [==============================] - 0s 557us/sample - loss: 4.3181e-04 - mean_absolute_error: 0.0164 - val_loss: 5.5926e-04 - val_mean_absolute_error: 0.0155\n",
      "Epoch 133/500\n",
      "451/451 [==============================] - 0s 555us/sample - loss: 1.8563e-04 - mean_absolute_error: 0.0101 - val_loss: 7.8707e-05 - val_mean_absolute_error: 0.0060\n",
      "Epoch 134/500\n",
      "451/451 [==============================] - 0s 556us/sample - loss: 2.4796e-04 - mean_absolute_error: 0.0113 - val_loss: 1.8982e-04 - val_mean_absolute_error: 0.0102\n",
      "Epoch 135/500\n",
      "451/451 [==============================] - 0s 542us/sample - loss: 1.8834e-04 - mean_absolute_error: 0.0103 - val_loss: 1.2005e-04 - val_mean_absolute_error: 0.0074\n",
      "Epoch 136/500\n",
      "451/451 [==============================] - 0s 558us/sample - loss: 3.2028e-04 - mean_absolute_error: 0.0128 - val_loss: 9.1235e-04 - val_mean_absolute_error: 0.0250\n",
      "Epoch 137/500\n",
      "451/451 [==============================] - 0s 555us/sample - loss: 6.4027e-04 - mean_absolute_error: 0.0192 - val_loss: 5.8189e-04 - val_mean_absolute_error: 0.0180\n",
      "Epoch 138/500\n",
      "451/451 [==============================] - 0s 559us/sample - loss: 3.6193e-04 - mean_absolute_error: 0.0150 - val_loss: 1.9969e-04 - val_mean_absolute_error: 0.0110\n",
      "Epoch 139/500\n",
      "451/451 [==============================] - 0s 584us/sample - loss: 2.1107e-04 - mean_absolute_error: 0.0113 - val_loss: 2.3286e-04 - val_mean_absolute_error: 0.0117\n",
      "Epoch 140/500\n",
      "451/451 [==============================] - 0s 519us/sample - loss: 2.8298e-04 - mean_absolute_error: 0.0127 - val_loss: 2.2444e-04 - val_mean_absolute_error: 0.0086\n"
     ]
    },
    {
     "name": "stdout",
     "output_type": "stream",
     "text": [
      "Epoch 141/500\n",
      "451/451 [==============================] - 0s 520us/sample - loss: 1.3445e-04 - mean_absolute_error: 0.0087 - val_loss: 2.1902e-04 - val_mean_absolute_error: 0.0104\n",
      "Epoch 142/500\n",
      "451/451 [==============================] - 0s 290us/sample - loss: 3.2057e-04 - mean_absolute_error: 0.0137 - val_loss: 3.7559e-04 - val_mean_absolute_error: 0.0161\n",
      "Epoch 143/500\n",
      "451/451 [==============================] - 0s 320us/sample - loss: 6.1788e-04 - mean_absolute_error: 0.0189 - val_loss: 0.0015 - val_mean_absolute_error: 0.0239\n",
      "Epoch 144/500\n",
      "451/451 [==============================] - 0s 453us/sample - loss: 8.8361e-04 - mean_absolute_error: 0.0201 - val_loss: 1.1210e-04 - val_mean_absolute_error: 0.0086\n",
      "Epoch 145/500\n",
      "451/451 [==============================] - 0s 606us/sample - loss: 3.2863e-04 - mean_absolute_error: 0.0141 - val_loss: 5.4685e-04 - val_mean_absolute_error: 0.0183\n",
      "Epoch 146/500\n",
      "451/451 [==============================] - 0s 595us/sample - loss: 4.9032e-04 - mean_absolute_error: 0.0163 - val_loss: 1.8799e-04 - val_mean_absolute_error: 0.0105\n",
      "Epoch 147/500\n",
      "451/451 [==============================] - 0s 537us/sample - loss: 2.2254e-04 - mean_absolute_error: 0.0112 - val_loss: 2.4604e-04 - val_mean_absolute_error: 0.0124\n",
      "Epoch 148/500\n",
      "451/451 [==============================] - 0s 542us/sample - loss: 3.1381e-04 - mean_absolute_error: 0.0129 - val_loss: 3.5447e-04 - val_mean_absolute_error: 0.0149\n",
      "Epoch 149/500\n",
      "451/451 [==============================] - 0s 551us/sample - loss: 3.1712e-04 - mean_absolute_error: 0.0135 - val_loss: 8.6031e-04 - val_mean_absolute_error: 0.0240\n",
      "Epoch 150/500\n",
      "451/451 [==============================] - 0s 542us/sample - loss: 4.1765e-04 - mean_absolute_error: 0.0158 - val_loss: 2.5949e-04 - val_mean_absolute_error: 0.0125\n",
      "Epoch 151/500\n",
      "451/451 [==============================] - 0s 544us/sample - loss: 5.6313e-04 - mean_absolute_error: 0.0174 - val_loss: 7.0254e-04 - val_mean_absolute_error: 0.0207\n",
      "Epoch 152/500\n",
      "451/451 [==============================] - 0s 548us/sample - loss: 5.2645e-04 - mean_absolute_error: 0.0163 - val_loss: 0.0013 - val_mean_absolute_error: 0.0275\n",
      "Epoch 153/500\n",
      "451/451 [==============================] - 0s 559us/sample - loss: 4.4108e-04 - mean_absolute_error: 0.0155 - val_loss: 1.7733e-04 - val_mean_absolute_error: 0.0104\n",
      "Epoch 154/500\n",
      "451/451 [==============================] - 0s 544us/sample - loss: 8.5872e-05 - mean_absolute_error: 0.0070 - val_loss: 1.6241e-04 - val_mean_absolute_error: 0.0090\n",
      "Epoch 155/500\n",
      "451/451 [==============================] - 0s 582us/sample - loss: 1.1723e-04 - mean_absolute_error: 0.0078 - val_loss: 9.0761e-04 - val_mean_absolute_error: 0.0246\n",
      "Epoch 156/500\n",
      "451/451 [==============================] - 0s 549us/sample - loss: 4.3192e-04 - mean_absolute_error: 0.0154 - val_loss: 7.0807e-04 - val_mean_absolute_error: 0.0194\n",
      "Epoch 157/500\n",
      "451/451 [==============================] - 0s 551us/sample - loss: 3.0223e-04 - mean_absolute_error: 0.0126 - val_loss: 5.7383e-04 - val_mean_absolute_error: 0.0184\n",
      "Epoch 158/500\n",
      "451/451 [==============================] - 0s 554us/sample - loss: 2.0194e-04 - mean_absolute_error: 0.0107 - val_loss: 1.5438e-04 - val_mean_absolute_error: 0.0074\n",
      "Epoch 159/500\n",
      "451/451 [==============================] - 0s 548us/sample - loss: 9.4856e-05 - mean_absolute_error: 0.0075 - val_loss: 4.6695e-05 - val_mean_absolute_error: 0.0051\n",
      "Epoch 160/500\n",
      "451/451 [==============================] - 0s 542us/sample - loss: 4.5840e-05 - mean_absolute_error: 0.0051 - val_loss: 4.9738e-04 - val_mean_absolute_error: 0.0159\n",
      "Epoch 161/500\n",
      "451/451 [==============================] - 0s 551us/sample - loss: 3.0446e-04 - mean_absolute_error: 0.0129 - val_loss: 3.4685e-04 - val_mean_absolute_error: 0.0129\n",
      "Epoch 162/500\n",
      "451/451 [==============================] - 0s 567us/sample - loss: 2.6778e-04 - mean_absolute_error: 0.0118 - val_loss: 4.7487e-04 - val_mean_absolute_error: 0.0147\n",
      "Epoch 163/500\n",
      "451/451 [==============================] - 0s 542us/sample - loss: 2.7427e-04 - mean_absolute_error: 0.0125 - val_loss: 8.3380e-04 - val_mean_absolute_error: 0.0211\n",
      "Epoch 164/500\n",
      "451/451 [==============================] - 0s 554us/sample - loss: 7.7646e-04 - mean_absolute_error: 0.0201 - val_loss: 5.1399e-04 - val_mean_absolute_error: 0.0149\n",
      "Epoch 165/500\n",
      "451/451 [==============================] - 0s 544us/sample - loss: 4.0417e-04 - mean_absolute_error: 0.0148 - val_loss: 0.0015 - val_mean_absolute_error: 0.0226\n",
      "Epoch 166/500\n",
      "451/451 [==============================] - 0s 559us/sample - loss: 4.2362e-04 - mean_absolute_error: 0.0141 - val_loss: 0.0011 - val_mean_absolute_error: 0.0231\n",
      "Epoch 167/500\n",
      "451/451 [==============================] - 0s 555us/sample - loss: 5.3324e-04 - mean_absolute_error: 0.0164 - val_loss: 4.4321e-04 - val_mean_absolute_error: 0.0108\n",
      "Epoch 168/500\n",
      "451/451 [==============================] - 0s 546us/sample - loss: 2.9610e-04 - mean_absolute_error: 0.0129 - val_loss: 2.5568e-04 - val_mean_absolute_error: 0.0140\n",
      "Epoch 169/500\n",
      "451/451 [==============================] - 0s 546us/sample - loss: 8.6359e-05 - mean_absolute_error: 0.0070 - val_loss: 2.5586e-04 - val_mean_absolute_error: 0.0131\n",
      "Epoch 170/500\n",
      "451/451 [==============================] - 0s 557us/sample - loss: 2.9146e-04 - mean_absolute_error: 0.0136 - val_loss: 5.8099e-04 - val_mean_absolute_error: 0.0165\n",
      "Epoch 171/500\n",
      "451/451 [==============================] - 0s 551us/sample - loss: 1.4877e-04 - mean_absolute_error: 0.0093 - val_loss: 2.5495e-04 - val_mean_absolute_error: 0.0125\n",
      "Epoch 172/500\n",
      "451/451 [==============================] - 0s 544us/sample - loss: 1.4330e-04 - mean_absolute_error: 0.0086 - val_loss: 6.3165e-05 - val_mean_absolute_error: 0.0054\n",
      "Epoch 173/500\n",
      "451/451 [==============================] - 0s 565us/sample - loss: 1.8926e-04 - mean_absolute_error: 0.0100 - val_loss: 2.7751e-04 - val_mean_absolute_error: 0.0117\n",
      "Epoch 174/500\n",
      "451/451 [==============================] - 0s 542us/sample - loss: 2.1007e-04 - mean_absolute_error: 0.0113 - val_loss: 5.7345e-04 - val_mean_absolute_error: 0.0193\n",
      "Epoch 175/500\n",
      "451/451 [==============================] - 0s 553us/sample - loss: 3.8638e-04 - mean_absolute_error: 0.0147 - val_loss: 3.1188e-04 - val_mean_absolute_error: 0.0147\n",
      "Epoch 176/500\n",
      "451/451 [==============================] - 0s 564us/sample - loss: 2.2648e-04 - mean_absolute_error: 0.0117 - val_loss: 1.7786e-04 - val_mean_absolute_error: 0.0093\n",
      "Epoch 177/500\n",
      "451/451 [==============================] - 0s 542us/sample - loss: 8.3480e-05 - mean_absolute_error: 0.0068 - val_loss: 2.7807e-04 - val_mean_absolute_error: 0.0107\n",
      "Epoch 178/500\n",
      "451/451 [==============================] - 0s 551us/sample - loss: 2.8588e-04 - mean_absolute_error: 0.0127 - val_loss: 6.3681e-04 - val_mean_absolute_error: 0.0138\n",
      "Epoch 179/500\n",
      "451/451 [==============================] - 0s 548us/sample - loss: 4.1959e-04 - mean_absolute_error: 0.0151 - val_loss: 4.8917e-04 - val_mean_absolute_error: 0.0176\n",
      "Epoch 180/500\n",
      "451/451 [==============================] - 0s 570us/sample - loss: 2.4699e-04 - mean_absolute_error: 0.0119 - val_loss: 1.2707e-04 - val_mean_absolute_error: 0.0070\n",
      "Epoch 181/500\n",
      "451/451 [==============================] - 0s 544us/sample - loss: 1.2803e-04 - mean_absolute_error: 0.0086 - val_loss: 1.3486e-04 - val_mean_absolute_error: 0.0088\n",
      "Epoch 182/500\n",
      "451/451 [==============================] - 0s 546us/sample - loss: 1.3755e-04 - mean_absolute_error: 0.0089 - val_loss: 1.3120e-04 - val_mean_absolute_error: 0.0076\n",
      "Epoch 183/500\n",
      "451/451 [==============================] - ETA: 0s - loss: 1.6788e-04 - mean_absolute_error: 0.009 - 0s 564us/sample - loss: 1.9218e-04 - mean_absolute_error: 0.0101 - val_loss: 6.4570e-04 - val_mean_absolute_error: 0.0203\n",
      "Epoch 184/500\n",
      "451/451 [==============================] - 0s 554us/sample - loss: 5.3462e-04 - mean_absolute_error: 0.0174 - val_loss: 2.4201e-04 - val_mean_absolute_error: 0.0120\n",
      "Epoch 185/500\n",
      "451/451 [==============================] - 0s 559us/sample - loss: 1.5100e-04 - mean_absolute_error: 0.0092 - val_loss: 3.2751e-04 - val_mean_absolute_error: 0.0139\n",
      "Epoch 186/500\n"
     ]
    },
    {
     "name": "stdout",
     "output_type": "stream",
     "text": [
      "451/451 [==============================] - 0s 548us/sample - loss: 3.2441e-04 - mean_absolute_error: 0.0127 - val_loss: 1.9086e-04 - val_mean_absolute_error: 0.0102\n",
      "Epoch 187/500\n",
      "451/451 [==============================] - 0s 550us/sample - loss: 2.3350e-04 - mean_absolute_error: 0.0118 - val_loss: 1.5153e-04 - val_mean_absolute_error: 0.0095\n",
      "Epoch 188/500\n",
      "451/451 [==============================] - 0s 551us/sample - loss: 2.1705e-04 - mean_absolute_error: 0.0113 - val_loss: 9.3400e-05 - val_mean_absolute_error: 0.0076\n",
      "Epoch 189/500\n",
      "451/451 [==============================] - 0s 540us/sample - loss: 1.3877e-04 - mean_absolute_error: 0.0087 - val_loss: 1.3041e-04 - val_mean_absolute_error: 0.0085\n",
      "Epoch 190/500\n",
      "451/451 [==============================] - 0s 542us/sample - loss: 1.3027e-04 - mean_absolute_error: 0.0088 - val_loss: 9.8095e-04 - val_mean_absolute_error: 0.0240\n",
      "Epoch 191/500\n",
      "451/451 [==============================] - 0s 548us/sample - loss: 8.4417e-04 - mean_absolute_error: 0.0212 - val_loss: 2.0958e-04 - val_mean_absolute_error: 0.0111\n",
      "Epoch 192/500\n",
      "451/451 [==============================] - 0s 560us/sample - loss: 4.1969e-04 - mean_absolute_error: 0.0145 - val_loss: 2.9909e-04 - val_mean_absolute_error: 0.0127\n",
      "Epoch 193/500\n",
      "451/451 [==============================] - 0s 562us/sample - loss: 3.5480e-04 - mean_absolute_error: 0.0142 - val_loss: 6.0351e-04 - val_mean_absolute_error: 0.0171\n",
      "Epoch 194/500\n",
      "451/451 [==============================] - 0s 591us/sample - loss: 5.4346e-04 - mean_absolute_error: 0.0162 - val_loss: 3.8486e-04 - val_mean_absolute_error: 0.0135\n",
      "Epoch 195/500\n",
      "451/451 [==============================] - 0s 548us/sample - loss: 2.9503e-04 - mean_absolute_error: 0.0131 - val_loss: 1.9189e-04 - val_mean_absolute_error: 0.0117\n",
      "Epoch 196/500\n",
      "451/451 [==============================] - 0s 551us/sample - loss: 4.1465e-04 - mean_absolute_error: 0.0142 - val_loss: 0.0012 - val_mean_absolute_error: 0.0272\n",
      "Epoch 197/500\n",
      "451/451 [==============================] - 0s 537us/sample - loss: 4.9333e-04 - mean_absolute_error: 0.0170 - val_loss: 2.2805e-04 - val_mean_absolute_error: 0.0108\n",
      "Epoch 198/500\n",
      "451/451 [==============================] - 0s 569us/sample - loss: 2.8786e-04 - mean_absolute_error: 0.0127 - val_loss: 1.1444e-04 - val_mean_absolute_error: 0.0090\n",
      "Epoch 199/500\n",
      "451/451 [==============================] - 0s 543us/sample - loss: 1.4408e-04 - mean_absolute_error: 0.0089 - val_loss: 2.9960e-04 - val_mean_absolute_error: 0.0129\n",
      "Epoch 200/500\n",
      "451/451 [==============================] - 0s 559us/sample - loss: 1.6635e-04 - mean_absolute_error: 0.0094 - val_loss: 1.9067e-04 - val_mean_absolute_error: 0.0096\n",
      "Epoch 201/500\n",
      "451/451 [==============================] - 0s 546us/sample - loss: 2.3628e-04 - mean_absolute_error: 0.0109 - val_loss: 3.2210e-04 - val_mean_absolute_error: 0.0117\n",
      "Epoch 202/500\n",
      "451/451 [==============================] - 0s 559us/sample - loss: 1.7771e-04 - mean_absolute_error: 0.0100 - val_loss: 2.4221e-05 - val_mean_absolute_error: 0.0037\n",
      "Epoch 203/500\n",
      "451/451 [==============================] - 0s 542us/sample - loss: 4.8364e-05 - mean_absolute_error: 0.0050 - val_loss: 6.3902e-04 - val_mean_absolute_error: 0.0183\n",
      "Epoch 204/500\n",
      "451/451 [==============================] - 0s 556us/sample - loss: 3.5508e-04 - mean_absolute_error: 0.0143 - val_loss: 3.4181e-04 - val_mean_absolute_error: 0.0140\n",
      "Epoch 205/500\n",
      "451/451 [==============================] - 0s 557us/sample - loss: 5.5864e-04 - mean_absolute_error: 0.0177 - val_loss: 2.0880e-04 - val_mean_absolute_error: 0.0124\n",
      "Epoch 206/500\n",
      "451/451 [==============================] - 0s 553us/sample - loss: 1.8038e-04 - mean_absolute_error: 0.0099 - val_loss: 3.6165e-04 - val_mean_absolute_error: 0.0122\n",
      "Epoch 207/500\n",
      "451/451 [==============================] - 0s 555us/sample - loss: 1.6661e-04 - mean_absolute_error: 0.0095 - val_loss: 9.2269e-05 - val_mean_absolute_error: 0.0074\n",
      "Epoch 208/500\n",
      "451/451 [==============================] - 0s 555us/sample - loss: 1.2932e-04 - mean_absolute_error: 0.0081 - val_loss: 7.3763e-04 - val_mean_absolute_error: 0.0211\n",
      "Epoch 209/500\n",
      "451/451 [==============================] - 0s 577us/sample - loss: 3.1622e-04 - mean_absolute_error: 0.0127 - val_loss: 4.8496e-04 - val_mean_absolute_error: 0.0176\n",
      "Epoch 210/500\n",
      "451/451 [==============================] - 0s 590us/sample - loss: 1.9169e-04 - mean_absolute_error: 0.0105 - val_loss: 1.9740e-04 - val_mean_absolute_error: 0.0119\n",
      "Epoch 211/500\n",
      "451/451 [==============================] - 0s 515us/sample - loss: 1.8586e-04 - mean_absolute_error: 0.0103 - val_loss: 1.2064e-04 - val_mean_absolute_error: 0.0083\n",
      "Epoch 212/500\n",
      "451/451 [==============================] - 0s 310us/sample - loss: 6.1727e-05 - mean_absolute_error: 0.0058 - val_loss: 2.2226e-05 - val_mean_absolute_error: 0.0031\n",
      "Epoch 213/500\n",
      "451/451 [==============================] - 0s 544us/sample - loss: 1.4738e-04 - mean_absolute_error: 0.0084 - val_loss: 9.8241e-04 - val_mean_absolute_error: 0.0247\n",
      "Epoch 214/500\n",
      "451/451 [==============================] - 0s 559us/sample - loss: 3.3483e-04 - mean_absolute_error: 0.0134 - val_loss: 4.8947e-04 - val_mean_absolute_error: 0.0152\n",
      "Epoch 215/500\n",
      "451/451 [==============================] - 0s 555us/sample - loss: 2.4425e-04 - mean_absolute_error: 0.0111 - val_loss: 5.2406e-04 - val_mean_absolute_error: 0.0169\n",
      "Epoch 216/500\n",
      "451/451 [==============================] - 0s 560us/sample - loss: 6.8988e-04 - mean_absolute_error: 0.0191 - val_loss: 8.5928e-04 - val_mean_absolute_error: 0.0207\n",
      "Epoch 217/500\n",
      "451/451 [==============================] - 0s 551us/sample - loss: 2.5470e-04 - mean_absolute_error: 0.0123 - val_loss: 3.2388e-04 - val_mean_absolute_error: 0.0125\n",
      "Epoch 218/500\n",
      "451/451 [==============================] - 0s 551us/sample - loss: 2.7107e-04 - mean_absolute_error: 0.0122 - val_loss: 3.6952e-04 - val_mean_absolute_error: 0.0135\n",
      "Epoch 219/500\n",
      "451/451 [==============================] - 0s 546us/sample - loss: 1.0708e-04 - mean_absolute_error: 0.0078 - val_loss: 6.4414e-05 - val_mean_absolute_error: 0.0058\n",
      "Epoch 220/500\n",
      "451/451 [==============================] - 0s 544us/sample - loss: 1.3297e-04 - mean_absolute_error: 0.0085 - val_loss: 5.9320e-04 - val_mean_absolute_error: 0.0168\n",
      "Epoch 221/500\n",
      "451/451 [==============================] - 0s 555us/sample - loss: 3.0486e-04 - mean_absolute_error: 0.0125 - val_loss: 1.3103e-04 - val_mean_absolute_error: 0.0091\n",
      "Epoch 222/500\n",
      "451/451 [==============================] - 0s 560us/sample - loss: 1.8410e-04 - mean_absolute_error: 0.0094 - val_loss: 1.6642e-04 - val_mean_absolute_error: 0.0078\n",
      "Epoch 223/500\n",
      "451/451 [==============================] - 0s 542us/sample - loss: 1.2028e-04 - mean_absolute_error: 0.0087 - val_loss: 2.0715e-04 - val_mean_absolute_error: 0.0103\n",
      "Epoch 224/500\n",
      "451/451 [==============================] - 0s 563us/sample - loss: 1.2007e-04 - mean_absolute_error: 0.0081 - val_loss: 8.0191e-05 - val_mean_absolute_error: 0.0056\n",
      "Epoch 225/500\n",
      "451/451 [==============================] - 0s 535us/sample - loss: 7.1470e-05 - mean_absolute_error: 0.0062 - val_loss: 3.7831e-04 - val_mean_absolute_error: 0.0146\n",
      "Epoch 226/500\n",
      "451/451 [==============================] - 0s 565us/sample - loss: 2.2021e-04 - mean_absolute_error: 0.0112 - val_loss: 1.1697e-04 - val_mean_absolute_error: 0.0079\n",
      "Epoch 227/500\n",
      "451/451 [==============================] - ETA: 0s - loss: 1.6964e-04 - mean_absolute_error: 0.009 - 0s 553us/sample - loss: 1.5977e-04 - mean_absolute_error: 0.0093 - val_loss: 6.4949e-04 - val_mean_absolute_error: 0.0182\n",
      "Epoch 228/500\n",
      "451/451 [==============================] - 0s 553us/sample - loss: 2.7326e-04 - mean_absolute_error: 0.0122 - val_loss: 2.0872e-04 - val_mean_absolute_error: 0.0110\n",
      "Epoch 229/500\n",
      "451/451 [==============================] - 0s 558us/sample - loss: 9.4824e-05 - mean_absolute_error: 0.0073 - val_loss: 1.0281e-04 - val_mean_absolute_error: 0.0071\n",
      "Epoch 230/500\n",
      "451/451 [==============================] - 0s 552us/sample - loss: 1.3269e-04 - mean_absolute_error: 0.0086 - val_loss: 4.5094e-04 - val_mean_absolute_error: 0.0139\n",
      "Epoch 231/500\n"
     ]
    },
    {
     "name": "stdout",
     "output_type": "stream",
     "text": [
      "451/451 [==============================] - 0s 555us/sample - loss: 4.2802e-04 - mean_absolute_error: 0.0153 - val_loss: 8.3127e-05 - val_mean_absolute_error: 0.0067\n",
      "Epoch 232/500\n",
      "451/451 [==============================] - 0s 540us/sample - loss: 1.1463e-04 - mean_absolute_error: 0.0080 - val_loss: 1.6918e-04 - val_mean_absolute_error: 0.0102\n",
      "Epoch 233/500\n",
      "451/451 [==============================] - 0s 561us/sample - loss: 1.6151e-04 - mean_absolute_error: 0.0099 - val_loss: 2.3305e-04 - val_mean_absolute_error: 0.0117\n",
      "Epoch 234/500\n",
      "451/451 [==============================] - 0s 546us/sample - loss: 1.6117e-04 - mean_absolute_error: 0.0091 - val_loss: 5.1764e-05 - val_mean_absolute_error: 0.0055\n",
      "Epoch 235/500\n",
      "451/451 [==============================] - 0s 541us/sample - loss: 6.3469e-05 - mean_absolute_error: 0.0063 - val_loss: 3.3470e-04 - val_mean_absolute_error: 0.0143\n",
      "Epoch 236/500\n",
      "451/451 [==============================] - 0s 544us/sample - loss: 1.6824e-04 - mean_absolute_error: 0.0093 - val_loss: 0.0011 - val_mean_absolute_error: 0.0216\n",
      "Epoch 237/500\n",
      "451/451 [==============================] - 0s 540us/sample - loss: 5.2934e-04 - mean_absolute_error: 0.0159 - val_loss: 2.9831e-04 - val_mean_absolute_error: 0.0134\n",
      "Epoch 238/500\n",
      "451/451 [==============================] - 0s 562us/sample - loss: 2.6568e-04 - mean_absolute_error: 0.0120 - val_loss: 7.2264e-04 - val_mean_absolute_error: 0.0220\n",
      "Epoch 239/500\n",
      "451/451 [==============================] - 0s 569us/sample - loss: 6.5715e-04 - mean_absolute_error: 0.0205 - val_loss: 0.0017 - val_mean_absolute_error: 0.0243\n",
      "Epoch 240/500\n",
      "451/451 [==============================] - 0s 549us/sample - loss: 6.8265e-04 - mean_absolute_error: 0.0179 - val_loss: 3.3388e-04 - val_mean_absolute_error: 0.0124\n",
      "Epoch 241/500\n",
      "451/451 [==============================] - 0s 563us/sample - loss: 2.1309e-04 - mean_absolute_error: 0.0102 - val_loss: 9.1621e-05 - val_mean_absolute_error: 0.0061\n",
      "Epoch 242/500\n",
      "451/451 [==============================] - 0s 562us/sample - loss: 1.2213e-04 - mean_absolute_error: 0.0080 - val_loss: 9.8899e-04 - val_mean_absolute_error: 0.0245\n",
      "Epoch 243/500\n",
      "451/451 [==============================] - 0s 558us/sample - loss: 4.3742e-04 - mean_absolute_error: 0.0153 - val_loss: 0.0013 - val_mean_absolute_error: 0.0273\n",
      "Epoch 244/500\n",
      "451/451 [==============================] - 0s 553us/sample - loss: 3.1751e-04 - mean_absolute_error: 0.0124 - val_loss: 5.8040e-04 - val_mean_absolute_error: 0.0179\n",
      "Epoch 245/500\n",
      "451/451 [==============================] - 0s 553us/sample - loss: 3.6178e-04 - mean_absolute_error: 0.0143 - val_loss: 6.1037e-04 - val_mean_absolute_error: 0.0210\n",
      "Epoch 246/500\n",
      "451/451 [==============================] - 0s 546us/sample - loss: 1.9392e-04 - mean_absolute_error: 0.0103 - val_loss: 5.5278e-04 - val_mean_absolute_error: 0.0200\n",
      "Epoch 247/500\n",
      "451/451 [==============================] - 0s 554us/sample - loss: 2.4170e-04 - mean_absolute_error: 0.0115 - val_loss: 2.2310e-04 - val_mean_absolute_error: 0.0121\n",
      "Epoch 248/500\n",
      "451/451 [==============================] - 0s 542us/sample - loss: 8.9680e-05 - mean_absolute_error: 0.0071 - val_loss: 1.5447e-04 - val_mean_absolute_error: 0.0098\n",
      "Epoch 249/500\n",
      "451/451 [==============================] - 0s 549us/sample - loss: 1.4039e-04 - mean_absolute_error: 0.0084 - val_loss: 4.6302e-04 - val_mean_absolute_error: 0.0151\n",
      "Epoch 250/500\n",
      "451/451 [==============================] - 0s 555us/sample - loss: 2.4617e-04 - mean_absolute_error: 0.0114 - val_loss: 3.4398e-04 - val_mean_absolute_error: 0.0144\n",
      "Epoch 251/500\n",
      "451/451 [==============================] - 0s 552us/sample - loss: 1.4895e-04 - mean_absolute_error: 0.0093 - val_loss: 3.9622e-05 - val_mean_absolute_error: 0.0045\n",
      "Epoch 252/500\n",
      "451/451 [==============================] - 0s 549us/sample - loss: 8.3610e-05 - mean_absolute_error: 0.0067 - val_loss: 1.5129e-04 - val_mean_absolute_error: 0.0088\n",
      "Epoch 253/500\n",
      "451/451 [==============================] - 0s 561us/sample - loss: 1.9517e-04 - mean_absolute_error: 0.0101 - val_loss: 2.1837e-04 - val_mean_absolute_error: 0.0103\n",
      "Epoch 254/500\n",
      "451/451 [==============================] - 0s 560us/sample - loss: 1.8389e-04 - mean_absolute_error: 0.0100 - val_loss: 8.5819e-05 - val_mean_absolute_error: 0.0071\n",
      "Epoch 255/500\n",
      "451/451 [==============================] - 0s 551us/sample - loss: 1.3830e-04 - mean_absolute_error: 0.0087 - val_loss: 3.8479e-04 - val_mean_absolute_error: 0.0139\n",
      "Epoch 256/500\n",
      "451/451 [==============================] - 0s 535us/sample - loss: 1.5835e-04 - mean_absolute_error: 0.0093 - val_loss: 4.0640e-04 - val_mean_absolute_error: 0.0139\n",
      "Epoch 257/500\n",
      "451/451 [==============================] - 0s 550us/sample - loss: 3.6630e-04 - mean_absolute_error: 0.0143 - val_loss: 4.9673e-04 - val_mean_absolute_error: 0.0151\n",
      "Epoch 258/500\n",
      "451/451 [==============================] - 0s 566us/sample - loss: 0.0013 - mean_absolute_error: 0.0249 - val_loss: 0.0019 - val_mean_absolute_error: 0.0238\n",
      "Epoch 259/500\n",
      "451/451 [==============================] - 0s 564us/sample - loss: 0.0010 - mean_absolute_error: 0.0219 - val_loss: 2.4592e-04 - val_mean_absolute_error: 0.0103\n",
      "Epoch 260/500\n",
      "451/451 [==============================] - 0s 546us/sample - loss: 2.6376e-04 - mean_absolute_error: 0.0124 - val_loss: 1.1198e-04 - val_mean_absolute_error: 0.0085\n",
      "Epoch 261/500\n",
      "451/451 [==============================] - 0s 586us/sample - loss: 1.2859e-04 - mean_absolute_error: 0.0087 - val_loss: 1.0565e-04 - val_mean_absolute_error: 0.0083\n",
      "Epoch 262/500\n",
      "451/451 [==============================] - 0s 581us/sample - loss: 1.0277e-04 - mean_absolute_error: 0.0081 - val_loss: 1.9312e-04 - val_mean_absolute_error: 0.0120\n",
      "Epoch 263/500\n",
      "451/451 [==============================] - 0s 566us/sample - loss: 1.4199e-04 - mean_absolute_error: 0.0092 - val_loss: 1.3846e-04 - val_mean_absolute_error: 0.0083\n",
      "Epoch 264/500\n",
      "451/451 [==============================] - 0s 555us/sample - loss: 1.6904e-04 - mean_absolute_error: 0.0097 - val_loss: 1.0494e-04 - val_mean_absolute_error: 0.0073\n",
      "Epoch 265/500\n",
      "451/451 [==============================] - 0s 562us/sample - loss: 1.1281e-04 - mean_absolute_error: 0.0080 - val_loss: 2.1415e-04 - val_mean_absolute_error: 0.0103\n",
      "Epoch 266/500\n",
      "451/451 [==============================] - 0s 559us/sample - loss: 9.9530e-05 - mean_absolute_error: 0.0077 - val_loss: 9.6211e-05 - val_mean_absolute_error: 0.0074\n",
      "Epoch 267/500\n",
      "451/451 [==============================] - 0s 568us/sample - loss: 1.7589e-04 - mean_absolute_error: 0.0101 - val_loss: 2.7078e-04 - val_mean_absolute_error: 0.0105\n",
      "Epoch 268/500\n",
      "451/451 [==============================] - 0s 440us/sample - loss: 1.2826e-04 - mean_absolute_error: 0.0085 - val_loss: 4.8850e-04 - val_mean_absolute_error: 0.0131\n",
      "Epoch 269/500\n",
      "451/451 [==============================] - 0s 530us/sample - loss: 3.8058e-04 - mean_absolute_error: 0.0146 - val_loss: 3.3112e-04 - val_mean_absolute_error: 0.0153\n",
      "Epoch 270/500\n",
      "451/451 [==============================] - 0s 564us/sample - loss: 4.0047e-04 - mean_absolute_error: 0.0156 - val_loss: 2.6029e-04 - val_mean_absolute_error: 0.0118\n",
      "Epoch 271/500\n",
      "451/451 [==============================] - 0s 542us/sample - loss: 2.1076e-04 - mean_absolute_error: 0.0110 - val_loss: 8.3872e-05 - val_mean_absolute_error: 0.0075\n",
      "Epoch 272/500\n",
      "451/451 [==============================] - 0s 551us/sample - loss: 1.5734e-04 - mean_absolute_error: 0.0099 - val_loss: 2.1991e-04 - val_mean_absolute_error: 0.0121\n",
      "Epoch 273/500\n",
      "451/451 [==============================] - 0s 545us/sample - loss: 1.8575e-04 - mean_absolute_error: 0.0104 - val_loss: 2.3026e-04 - val_mean_absolute_error: 0.0130\n",
      "Epoch 274/500\n",
      "451/451 [==============================] - 0s 380us/sample - loss: 5.3548e-05 - mean_absolute_error: 0.0055 - val_loss: 5.9175e-05 - val_mean_absolute_error: 0.0053\n",
      "Epoch 275/500\n",
      "451/451 [==============================] - 0s 570us/sample - loss: 5.9711e-05 - mean_absolute_error: 0.0058 - val_loss: 6.1547e-04 - val_mean_absolute_error: 0.0179\n",
      "Epoch 276/500\n",
      "451/451 [==============================] - 0s 557us/sample - loss: 2.5682e-04 - mean_absolute_error: 0.0115 - val_loss: 2.4368e-04 - val_mean_absolute_error: 0.0129\n"
     ]
    },
    {
     "name": "stdout",
     "output_type": "stream",
     "text": [
      "Epoch 277/500\n",
      "451/451 [==============================] - 0s 556us/sample - loss: 2.2755e-04 - mean_absolute_error: 0.0111 - val_loss: 2.6618e-04 - val_mean_absolute_error: 0.0098\n",
      "Epoch 278/500\n",
      "451/451 [==============================] - 0s 555us/sample - loss: 1.4407e-04 - mean_absolute_error: 0.0084 - val_loss: 1.4253e-04 - val_mean_absolute_error: 0.0089\n",
      "Epoch 279/500\n",
      "451/451 [==============================] - 0s 543us/sample - loss: 1.2115e-04 - mean_absolute_error: 0.0079 - val_loss: 1.5358e-04 - val_mean_absolute_error: 0.0088\n",
      "Epoch 280/500\n",
      "451/451 [==============================] - 0s 551us/sample - loss: 2.8784e-04 - mean_absolute_error: 0.0117 - val_loss: 3.4368e-04 - val_mean_absolute_error: 0.0142\n",
      "Epoch 281/500\n",
      "451/451 [==============================] - 0s 553us/sample - loss: 1.2738e-04 - mean_absolute_error: 0.0087 - val_loss: 2.1378e-04 - val_mean_absolute_error: 0.0081\n",
      "Epoch 282/500\n",
      "451/451 [==============================] - 0s 549us/sample - loss: 1.2766e-04 - mean_absolute_error: 0.0080 - val_loss: 8.3752e-04 - val_mean_absolute_error: 0.0212\n",
      "Epoch 283/500\n",
      "451/451 [==============================] - 0s 546us/sample - loss: 7.6177e-04 - mean_absolute_error: 0.0212 - val_loss: 0.0014 - val_mean_absolute_error: 0.0304\n",
      "Epoch 284/500\n",
      "451/451 [==============================] - 0s 546us/sample - loss: 5.8417e-04 - mean_absolute_error: 0.0181 - val_loss: 0.0011 - val_mean_absolute_error: 0.0234\n",
      "Epoch 285/500\n",
      "451/451 [==============================] - 0s 553us/sample - loss: 3.2783e-04 - mean_absolute_error: 0.0131 - val_loss: 7.7570e-04 - val_mean_absolute_error: 0.0195\n",
      "Epoch 286/500\n",
      "451/451 [==============================] - 0s 536us/sample - loss: 3.2296e-04 - mean_absolute_error: 0.0129 - val_loss: 2.0097e-04 - val_mean_absolute_error: 0.0083\n",
      "Epoch 287/500\n",
      "451/451 [==============================] - 0s 562us/sample - loss: 1.3880e-04 - mean_absolute_error: 0.0090 - val_loss: 1.6720e-04 - val_mean_absolute_error: 0.0078\n",
      "Epoch 288/500\n",
      "451/451 [==============================] - 0s 544us/sample - loss: 7.8930e-05 - mean_absolute_error: 0.0063 - val_loss: 1.2477e-04 - val_mean_absolute_error: 0.0079\n",
      "Epoch 289/500\n",
      "451/451 [==============================] - 0s 546us/sample - loss: 1.3583e-04 - mean_absolute_error: 0.0082 - val_loss: 1.3929e-04 - val_mean_absolute_error: 0.0075\n",
      "Epoch 290/500\n",
      "451/451 [==============================] - 0s 546us/sample - loss: 1.6314e-04 - mean_absolute_error: 0.0096 - val_loss: 1.2518e-04 - val_mean_absolute_error: 0.0085\n",
      "Epoch 291/500\n",
      "451/451 [==============================] - 0s 566us/sample - loss: 1.4052e-04 - mean_absolute_error: 0.0095 - val_loss: 2.1026e-04 - val_mean_absolute_error: 0.0110\n",
      "Epoch 292/500\n",
      "451/451 [==============================] - 0s 546us/sample - loss: 9.1572e-05 - mean_absolute_error: 0.0071 - val_loss: 5.2407e-05 - val_mean_absolute_error: 0.0051\n",
      "Epoch 293/500\n",
      "451/451 [==============================] - 0s 542us/sample - loss: 5.0882e-05 - mean_absolute_error: 0.0054 - val_loss: 3.8868e-05 - val_mean_absolute_error: 0.0045\n",
      "Epoch 294/500\n",
      "451/451 [==============================] - 0s 544us/sample - loss: 1.2478e-04 - mean_absolute_error: 0.0086 - val_loss: 4.0247e-04 - val_mean_absolute_error: 0.0144\n",
      "Epoch 295/500\n",
      "451/451 [==============================] - 0s 555us/sample - loss: 1.8804e-04 - mean_absolute_error: 0.0100 - val_loss: 6.0614e-04 - val_mean_absolute_error: 0.0177\n",
      "Epoch 296/500\n",
      "451/451 [==============================] - 0s 562us/sample - loss: 3.2033e-04 - mean_absolute_error: 0.0136 - val_loss: 2.8111e-04 - val_mean_absolute_error: 0.0137\n",
      "Epoch 297/500\n",
      "451/451 [==============================] - 0s 556us/sample - loss: 1.8921e-04 - mean_absolute_error: 0.0104 - val_loss: 3.3244e-04 - val_mean_absolute_error: 0.0163\n",
      "Epoch 298/500\n",
      "451/451 [==============================] - ETA: 0s - loss: 1.1716e-04 - mean_absolute_error: 0.008 - 0s 558us/sample - loss: 1.1121e-04 - mean_absolute_error: 0.0081 - val_loss: 9.8694e-05 - val_mean_absolute_error: 0.0071\n",
      "Epoch 299/500\n",
      "451/451 [==============================] - 0s 557us/sample - loss: 4.2993e-05 - mean_absolute_error: 0.0049 - val_loss: 6.4888e-05 - val_mean_absolute_error: 0.0057\n",
      "Epoch 300/500\n",
      "451/451 [==============================] - 0s 556us/sample - loss: 1.7408e-04 - mean_absolute_error: 0.0099 - val_loss: 7.9203e-05 - val_mean_absolute_error: 0.0069\n",
      "Epoch 301/500\n",
      "451/451 [==============================] - 0s 537us/sample - loss: 1.1430e-04 - mean_absolute_error: 0.0086 - val_loss: 1.5909e-04 - val_mean_absolute_error: 0.0078\n",
      "Epoch 302/500\n",
      "451/451 [==============================] - 0s 557us/sample - loss: 9.3283e-05 - mean_absolute_error: 0.0072 - val_loss: 3.9572e-05 - val_mean_absolute_error: 0.0056\n",
      "Epoch 303/500\n",
      "451/451 [==============================] - 0s 551us/sample - loss: 1.4779e-04 - mean_absolute_error: 0.0085 - val_loss: 9.0824e-04 - val_mean_absolute_error: 0.0224\n",
      "Epoch 304/500\n",
      "451/451 [==============================] - 0s 555us/sample - loss: 3.6356e-04 - mean_absolute_error: 0.0135 - val_loss: 1.5730e-04 - val_mean_absolute_error: 0.0111\n",
      "Epoch 305/500\n",
      "451/451 [==============================] - 0s 542us/sample - loss: 3.3089e-04 - mean_absolute_error: 0.0129 - val_loss: 2.6336e-04 - val_mean_absolute_error: 0.0130\n",
      "Epoch 306/500\n",
      "451/451 [==============================] - 0s 580us/sample - loss: 1.5644e-04 - mean_absolute_error: 0.0095 - val_loss: 2.3898e-04 - val_mean_absolute_error: 0.0114\n",
      "Epoch 307/500\n",
      "451/451 [==============================] - 0s 566us/sample - loss: 1.2309e-04 - mean_absolute_error: 0.0084 - val_loss: 7.0254e-04 - val_mean_absolute_error: 0.0168\n",
      "Epoch 308/500\n",
      "451/451 [==============================] - 0s 549us/sample - loss: 2.0536e-04 - mean_absolute_error: 0.0094 - val_loss: 1.6989e-04 - val_mean_absolute_error: 0.0093\n",
      "Epoch 309/500\n",
      "451/451 [==============================] - 0s 546us/sample - loss: 2.4754e-04 - mean_absolute_error: 0.0119 - val_loss: 2.0738e-04 - val_mean_absolute_error: 0.0113\n",
      "Epoch 310/500\n",
      "451/451 [==============================] - 0s 551us/sample - loss: 1.5580e-04 - mean_absolute_error: 0.0088 - val_loss: 2.9715e-04 - val_mean_absolute_error: 0.0140\n",
      "Epoch 311/500\n",
      "451/451 [==============================] - 0s 557us/sample - loss: 1.4354e-04 - mean_absolute_error: 0.0094 - val_loss: 1.4880e-04 - val_mean_absolute_error: 0.0091\n",
      "Epoch 312/500\n",
      "451/451 [==============================] - 0s 585us/sample - loss: 8.0600e-05 - mean_absolute_error: 0.0065 - val_loss: 1.1122e-04 - val_mean_absolute_error: 0.0087\n",
      "Epoch 313/500\n",
      "451/451 [==============================] - 0s 277us/sample - loss: 1.6185e-04 - mean_absolute_error: 0.0094 - val_loss: 2.7924e-04 - val_mean_absolute_error: 0.0141\n",
      "Epoch 314/500\n",
      "451/451 [==============================] - 0s 551us/sample - loss: 1.4155e-04 - mean_absolute_error: 0.0090 - val_loss: 6.2237e-05 - val_mean_absolute_error: 0.0064\n",
      "Epoch 315/500\n",
      "451/451 [==============================] - 0s 546us/sample - loss: 1.6794e-04 - mean_absolute_error: 0.0091 - val_loss: 2.4616e-04 - val_mean_absolute_error: 0.0136\n",
      "Epoch 316/500\n",
      "451/451 [==============================] - 0s 553us/sample - loss: 1.6129e-04 - mean_absolute_error: 0.0095 - val_loss: 5.1920e-05 - val_mean_absolute_error: 0.0054\n",
      "Epoch 317/500\n",
      "451/451 [==============================] - 0s 554us/sample - loss: 6.1453e-05 - mean_absolute_error: 0.0061 - val_loss: 8.7921e-04 - val_mean_absolute_error: 0.0197\n",
      "Epoch 318/500\n",
      "451/451 [==============================] - 0s 553us/sample - loss: 4.8898e-04 - mean_absolute_error: 0.0160 - val_loss: 3.2499e-04 - val_mean_absolute_error: 0.0135\n",
      "Epoch 319/500\n",
      "451/451 [==============================] - 0s 557us/sample - loss: 1.6067e-04 - mean_absolute_error: 0.0096 - val_loss: 2.1177e-04 - val_mean_absolute_error: 0.0095\n",
      "Epoch 320/500\n",
      "451/451 [==============================] - 0s 546us/sample - loss: 9.1438e-05 - mean_absolute_error: 0.0068 - val_loss: 0.0018 - val_mean_absolute_error: 0.0315\n",
      "Epoch 321/500\n",
      "451/451 [==============================] - 0s 547us/sample - loss: 4.5286e-04 - mean_absolute_error: 0.0160 - val_loss: 5.8462e-04 - val_mean_absolute_error: 0.0198\n",
      "Epoch 322/500\n"
     ]
    },
    {
     "name": "stdout",
     "output_type": "stream",
     "text": [
      "451/451 [==============================] - 0s 555us/sample - loss: 1.8986e-04 - mean_absolute_error: 0.0104 - val_loss: 1.4595e-04 - val_mean_absolute_error: 0.0077\n",
      "Epoch 323/500\n",
      "451/451 [==============================] - 0s 544us/sample - loss: 9.5359e-05 - mean_absolute_error: 0.0078 - val_loss: 1.2857e-04 - val_mean_absolute_error: 0.0090\n",
      "Epoch 324/500\n",
      "451/451 [==============================] - 0s 541us/sample - loss: 1.0649e-04 - mean_absolute_error: 0.0080 - val_loss: 2.2618e-04 - val_mean_absolute_error: 0.0105\n",
      "Epoch 325/500\n",
      "451/451 [==============================] - 0s 544us/sample - loss: 3.4689e-04 - mean_absolute_error: 0.0141 - val_loss: 1.5785e-04 - val_mean_absolute_error: 0.0101\n",
      "Epoch 326/500\n",
      "451/451 [==============================] - 0s 539us/sample - loss: 1.0157e-04 - mean_absolute_error: 0.0075 - val_loss: 3.2423e-04 - val_mean_absolute_error: 0.0163\n",
      "Epoch 327/500\n",
      "451/451 [==============================] - 0s 557us/sample - loss: 1.8154e-04 - mean_absolute_error: 0.0100 - val_loss: 5.2307e-05 - val_mean_absolute_error: 0.0063\n",
      "Epoch 328/500\n",
      "451/451 [==============================] - 0s 555us/sample - loss: 8.4986e-05 - mean_absolute_error: 0.0068 - val_loss: 1.4486e-04 - val_mean_absolute_error: 0.0076\n",
      "Epoch 329/500\n",
      "451/451 [==============================] - 0s 555us/sample - loss: 8.5216e-05 - mean_absolute_error: 0.0072 - val_loss: 4.2054e-05 - val_mean_absolute_error: 0.0056\n",
      "Epoch 330/500\n",
      "451/451 [==============================] - 0s 537us/sample - loss: 1.2358e-04 - mean_absolute_error: 0.0089 - val_loss: 1.7596e-04 - val_mean_absolute_error: 0.0086\n",
      "Epoch 331/500\n",
      "451/451 [==============================] - 0s 537us/sample - loss: 1.6245e-04 - mean_absolute_error: 0.0094 - val_loss: 1.2063e-04 - val_mean_absolute_error: 0.0090\n",
      "Epoch 332/500\n",
      "451/451 [==============================] - 0s 544us/sample - loss: 1.2282e-04 - mean_absolute_error: 0.0086 - val_loss: 5.3036e-04 - val_mean_absolute_error: 0.0156\n",
      "Epoch 333/500\n",
      "451/451 [==============================] - 0s 555us/sample - loss: 2.0493e-04 - mean_absolute_error: 0.0103 - val_loss: 2.3908e-04 - val_mean_absolute_error: 0.0113\n",
      "Epoch 334/500\n",
      "451/451 [==============================] - 0s 542us/sample - loss: 2.1433e-04 - mean_absolute_error: 0.0104 - val_loss: 3.2827e-04 - val_mean_absolute_error: 0.0141\n",
      "Epoch 335/500\n",
      "451/451 [==============================] - 0s 555us/sample - loss: 1.3266e-04 - mean_absolute_error: 0.0085 - val_loss: 1.5132e-04 - val_mean_absolute_error: 0.0106\n",
      "Epoch 336/500\n",
      "451/451 [==============================] - 0s 542us/sample - loss: 1.4891e-04 - mean_absolute_error: 0.0092 - val_loss: 4.3954e-05 - val_mean_absolute_error: 0.0052\n",
      "Epoch 337/500\n",
      "451/451 [==============================] - 0s 590us/sample - loss: 7.3005e-05 - mean_absolute_error: 0.0065 - val_loss: 1.5642e-04 - val_mean_absolute_error: 0.0108\n",
      "Epoch 338/500\n",
      "451/451 [==============================] - 0s 568us/sample - loss: 2.9322e-04 - mean_absolute_error: 0.0115 - val_loss: 1.6923e-04 - val_mean_absolute_error: 0.0109\n",
      "Epoch 339/500\n",
      "451/451 [==============================] - 0s 564us/sample - loss: 2.7493e-04 - mean_absolute_error: 0.0128 - val_loss: 4.9150e-04 - val_mean_absolute_error: 0.0145\n",
      "Epoch 340/500\n",
      "451/451 [==============================] - 0s 641us/sample - loss: 2.5208e-04 - mean_absolute_error: 0.0118 - val_loss: 2.7897e-04 - val_mean_absolute_error: 0.0131\n",
      "Epoch 341/500\n",
      "451/451 [==============================] - 0s 549us/sample - loss: 3.0513e-04 - mean_absolute_error: 0.0133 - val_loss: 1.8308e-04 - val_mean_absolute_error: 0.0083\n",
      "Epoch 342/500\n",
      "451/451 [==============================] - 0s 566us/sample - loss: 5.4322e-05 - mean_absolute_error: 0.0055 - val_loss: 1.3172e-04 - val_mean_absolute_error: 0.0092\n",
      "Epoch 343/500\n",
      "451/451 [==============================] - 0s 588us/sample - loss: 1.2190e-04 - mean_absolute_error: 0.0083 - val_loss: 4.2506e-04 - val_mean_absolute_error: 0.0167\n",
      "Epoch 344/500\n",
      "451/451 [==============================] - 0s 556us/sample - loss: 2.6260e-04 - mean_absolute_error: 0.0113 - val_loss: 2.9608e-04 - val_mean_absolute_error: 0.0132\n",
      "Epoch 345/500\n",
      "451/451 [==============================] - 0s 546us/sample - loss: 1.4419e-04 - mean_absolute_error: 0.0086 - val_loss: 3.7297e-05 - val_mean_absolute_error: 0.0053\n",
      "Epoch 346/500\n",
      "451/451 [==============================] - 0s 573us/sample - loss: 7.1445e-05 - mean_absolute_error: 0.0064 - val_loss: 4.3936e-04 - val_mean_absolute_error: 0.0145\n",
      "Epoch 347/500\n",
      "451/451 [==============================] - 0s 571us/sample - loss: 3.2224e-04 - mean_absolute_error: 0.0132 - val_loss: 5.1084e-04 - val_mean_absolute_error: 0.0151\n",
      "Epoch 348/500\n",
      "451/451 [==============================] - 0s 562us/sample - loss: 1.8672e-04 - mean_absolute_error: 0.0096 - val_loss: 3.3350e-04 - val_mean_absolute_error: 0.0155\n",
      "Epoch 349/500\n",
      "451/451 [==============================] - 0s 537us/sample - loss: 1.9711e-04 - mean_absolute_error: 0.0106 - val_loss: 3.8032e-04 - val_mean_absolute_error: 0.0152\n",
      "Epoch 350/500\n",
      "451/451 [==============================] - 0s 555us/sample - loss: 1.7193e-04 - mean_absolute_error: 0.0100 - val_loss: 4.2790e-04 - val_mean_absolute_error: 0.0151\n",
      "Epoch 351/500\n",
      "451/451 [==============================] - 0s 557us/sample - loss: 1.7391e-04 - mean_absolute_error: 0.0100 - val_loss: 1.2221e-04 - val_mean_absolute_error: 0.0086\n",
      "Epoch 352/500\n",
      "451/451 [==============================] - 0s 547us/sample - loss: 1.7385e-04 - mean_absolute_error: 0.0101 - val_loss: 4.6953e-04 - val_mean_absolute_error: 0.0160\n",
      "Epoch 353/500\n",
      "451/451 [==============================] - 0s 557us/sample - loss: 1.7687e-04 - mean_absolute_error: 0.0097 - val_loss: 5.7738e-05 - val_mean_absolute_error: 0.0058\n",
      "Epoch 354/500\n",
      "451/451 [==============================] - 0s 553us/sample - loss: 4.6540e-05 - mean_absolute_error: 0.0053 - val_loss: 7.3942e-05 - val_mean_absolute_error: 0.0074\n",
      "Epoch 355/500\n",
      "451/451 [==============================] - 0s 557us/sample - loss: 4.5680e-05 - mean_absolute_error: 0.0052 - val_loss: 1.3854e-04 - val_mean_absolute_error: 0.0093\n",
      "Epoch 356/500\n",
      "451/451 [==============================] - ETA: 0s - loss: 1.0974e-04 - mean_absolute_error: 0.008 - 0s 563us/sample - loss: 1.1164e-04 - mean_absolute_error: 0.0080 - val_loss: 4.6657e-05 - val_mean_absolute_error: 0.0050\n",
      "Epoch 357/500\n",
      "451/451 [==============================] - 0s 570us/sample - loss: 2.4241e-04 - mean_absolute_error: 0.0118 - val_loss: 1.7032e-04 - val_mean_absolute_error: 0.0097\n",
      "Epoch 358/500\n",
      "451/451 [==============================] - 0s 548us/sample - loss: 1.2032e-04 - mean_absolute_error: 0.0085 - val_loss: 1.0839e-04 - val_mean_absolute_error: 0.0084\n",
      "Epoch 359/500\n",
      "451/451 [==============================] - 0s 562us/sample - loss: 1.2263e-04 - mean_absolute_error: 0.0076 - val_loss: 4.2460e-04 - val_mean_absolute_error: 0.0150\n",
      "Epoch 360/500\n",
      "451/451 [==============================] - 0s 557us/sample - loss: 2.3784e-04 - mean_absolute_error: 0.0104 - val_loss: 5.4275e-04 - val_mean_absolute_error: 0.0171\n",
      "Epoch 361/500\n",
      "451/451 [==============================] - 0s 559us/sample - loss: 2.4610e-04 - mean_absolute_error: 0.0116 - val_loss: 1.7691e-04 - val_mean_absolute_error: 0.0104\n",
      "Epoch 362/500\n",
      "451/451 [==============================] - 0s 549us/sample - loss: 2.8220e-04 - mean_absolute_error: 0.0129 - val_loss: 3.9567e-04 - val_mean_absolute_error: 0.0155\n",
      "Epoch 363/500\n",
      "451/451 [==============================] - 0s 544us/sample - loss: 1.5867e-04 - mean_absolute_error: 0.0099 - val_loss: 1.7328e-04 - val_mean_absolute_error: 0.0105\n",
      "Epoch 364/500\n",
      "451/451 [==============================] - 0s 553us/sample - loss: 1.0517e-04 - mean_absolute_error: 0.0074 - val_loss: 1.8186e-04 - val_mean_absolute_error: 0.0109\n",
      "Epoch 365/500\n",
      "451/451 [==============================] - 0s 551us/sample - loss: 1.3133e-04 - mean_absolute_error: 0.0087 - val_loss: 9.1732e-04 - val_mean_absolute_error: 0.0166\n",
      "Epoch 366/500\n",
      "451/451 [==============================] - 0s 553us/sample - loss: 2.7520e-04 - mean_absolute_error: 0.0116 - val_loss: 5.4816e-04 - val_mean_absolute_error: 0.0181\n",
      "Epoch 367/500\n"
     ]
    },
    {
     "name": "stdout",
     "output_type": "stream",
     "text": [
      "451/451 [==============================] - 0s 593us/sample - loss: 4.2121e-04 - mean_absolute_error: 0.0156 - val_loss: 7.6410e-04 - val_mean_absolute_error: 0.0228\n",
      "Epoch 368/500\n",
      "451/451 [==============================] - 0s 579us/sample - loss: 2.1821e-04 - mean_absolute_error: 0.0107 - val_loss: 1.5323e-04 - val_mean_absolute_error: 0.0095\n",
      "Epoch 369/500\n",
      "451/451 [==============================] - 0s 549us/sample - loss: 1.5644e-04 - mean_absolute_error: 0.0099 - val_loss: 3.6937e-04 - val_mean_absolute_error: 0.0160\n",
      "Epoch 370/500\n",
      "451/451 [==============================] - 0s 551us/sample - loss: 1.2310e-04 - mean_absolute_error: 0.0083 - val_loss: 2.0388e-04 - val_mean_absolute_error: 0.0090\n",
      "Epoch 371/500\n",
      "451/451 [==============================] - 0s 540us/sample - loss: 6.1807e-05 - mean_absolute_error: 0.0058 - val_loss: 1.5433e-05 - val_mean_absolute_error: 0.0031\n",
      "Epoch 372/500\n",
      "451/451 [==============================] - 0s 559us/sample - loss: 1.2109e-04 - mean_absolute_error: 0.0069 - val_loss: 1.5719e-04 - val_mean_absolute_error: 0.0084\n",
      "Epoch 373/500\n",
      "451/451 [==============================] - 0s 540us/sample - loss: 2.8558e-04 - mean_absolute_error: 0.0125 - val_loss: 7.7865e-05 - val_mean_absolute_error: 0.0070\n",
      "Epoch 374/500\n",
      "451/451 [==============================] - 0s 553us/sample - loss: 8.5433e-05 - mean_absolute_error: 0.0070 - val_loss: 1.6341e-05 - val_mean_absolute_error: 0.0034\n",
      "Epoch 375/500\n",
      "451/451 [==============================] - 0s 520us/sample - loss: 4.4763e-05 - mean_absolute_error: 0.0052 - val_loss: 4.4934e-04 - val_mean_absolute_error: 0.0162\n",
      "Epoch 376/500\n",
      "451/451 [==============================] - 0s 486us/sample - loss: 2.4445e-04 - mean_absolute_error: 0.0118 - val_loss: 1.9198e-04 - val_mean_absolute_error: 0.0089\n",
      "Epoch 377/500\n",
      "451/451 [==============================] - 0s 469us/sample - loss: 8.5455e-05 - mean_absolute_error: 0.0068 - val_loss: 2.8367e-05 - val_mean_absolute_error: 0.0037\n",
      "Epoch 378/500\n",
      "451/451 [==============================] - 0s 464us/sample - loss: 2.5006e-05 - mean_absolute_error: 0.0039 - val_loss: 1.8537e-04 - val_mean_absolute_error: 0.0120\n",
      "Epoch 379/500\n",
      "451/451 [==============================] - 0s 491us/sample - loss: 1.0418e-04 - mean_absolute_error: 0.0079 - val_loss: 1.3802e-04 - val_mean_absolute_error: 0.0089\n",
      "Epoch 380/500\n",
      "451/451 [==============================] - 0s 502us/sample - loss: 5.3342e-05 - mean_absolute_error: 0.0055 - val_loss: 2.3129e-05 - val_mean_absolute_error: 0.0038\n",
      "Epoch 381/500\n",
      "451/451 [==============================] - 0s 482us/sample - loss: 1.0226e-04 - mean_absolute_error: 0.0077 - val_loss: 2.7129e-04 - val_mean_absolute_error: 0.0135\n",
      "Epoch 382/500\n",
      "451/451 [==============================] - 0s 467us/sample - loss: 2.3230e-04 - mean_absolute_error: 0.0121 - val_loss: 1.2504e-04 - val_mean_absolute_error: 0.0098\n",
      "Epoch 383/500\n",
      "451/451 [==============================] - 0s 491us/sample - loss: 9.9792e-05 - mean_absolute_error: 0.0078 - val_loss: 1.9821e-04 - val_mean_absolute_error: 0.0098\n",
      "Epoch 384/500\n",
      "451/451 [==============================] - 0s 499us/sample - loss: 1.6583e-04 - mean_absolute_error: 0.0094 - val_loss: 3.2557e-04 - val_mean_absolute_error: 0.0141\n",
      "Epoch 385/500\n",
      "451/451 [==============================] - 0s 511us/sample - loss: 1.6899e-04 - mean_absolute_error: 0.0095 - val_loss: 6.9383e-06 - val_mean_absolute_error: 0.0019\n",
      "Epoch 386/500\n",
      "451/451 [==============================] - 0s 499us/sample - loss: 2.0777e-05 - mean_absolute_error: 0.0035 - val_loss: 3.3269e-04 - val_mean_absolute_error: 0.0139\n",
      "Epoch 387/500\n",
      "451/451 [==============================] - 0s 467us/sample - loss: 2.0443e-04 - mean_absolute_error: 0.0110 - val_loss: 1.1386e-04 - val_mean_absolute_error: 0.0077\n",
      "Epoch 388/500\n",
      "451/451 [==============================] - 0s 470us/sample - loss: 5.5389e-05 - mean_absolute_error: 0.0057 - val_loss: 3.5328e-05 - val_mean_absolute_error: 0.0046\n",
      "Epoch 389/500\n",
      "451/451 [==============================] - 0s 482us/sample - loss: 2.6624e-05 - mean_absolute_error: 0.0039 - val_loss: 7.5521e-05 - val_mean_absolute_error: 0.0055\n",
      "Epoch 390/500\n",
      "451/451 [==============================] - 0s 493us/sample - loss: 1.1259e-04 - mean_absolute_error: 0.0074 - val_loss: 1.3689e-04 - val_mean_absolute_error: 0.0100\n",
      "Epoch 391/500\n",
      "451/451 [==============================] - 0s 493us/sample - loss: 4.0839e-04 - mean_absolute_error: 0.0151 - val_loss: 8.5933e-05 - val_mean_absolute_error: 0.0067\n",
      "Epoch 392/500\n",
      "451/451 [==============================] - 0s 562us/sample - loss: 1.1337e-04 - mean_absolute_error: 0.0084 - val_loss: 1.8881e-04 - val_mean_absolute_error: 0.0117\n",
      "Epoch 393/500\n",
      "451/451 [==============================] - 0s 522us/sample - loss: 1.0724e-04 - mean_absolute_error: 0.0076 - val_loss: 5.5518e-04 - val_mean_absolute_error: 0.0155\n",
      "Epoch 394/500\n",
      "451/451 [==============================] - 0s 495us/sample - loss: 3.0222e-04 - mean_absolute_error: 0.0132 - val_loss: 3.7565e-05 - val_mean_absolute_error: 0.0044\n",
      "Epoch 395/500\n",
      "451/451 [==============================] - 0s 489us/sample - loss: 2.5680e-04 - mean_absolute_error: 0.0110 - val_loss: 7.3809e-05 - val_mean_absolute_error: 0.0070\n",
      "Epoch 396/500\n",
      "451/451 [==============================] - 0s 371us/sample - loss: 1.7286e-04 - mean_absolute_error: 0.0100 - val_loss: 1.9692e-04 - val_mean_absolute_error: 0.0091\n",
      "Epoch 397/500\n",
      "451/451 [==============================] - 0s 489us/sample - loss: 1.3416e-04 - mean_absolute_error: 0.0086 - val_loss: 2.6190e-04 - val_mean_absolute_error: 0.0136\n",
      "Epoch 398/500\n",
      "451/451 [==============================] - 0s 504us/sample - loss: 1.0227e-04 - mean_absolute_error: 0.0075 - val_loss: 1.0109e-04 - val_mean_absolute_error: 0.0071\n",
      "Epoch 399/500\n",
      "451/451 [==============================] - 0s 513us/sample - loss: 6.2836e-05 - mean_absolute_error: 0.0062 - val_loss: 1.1086e-04 - val_mean_absolute_error: 0.0075\n",
      "Epoch 400/500\n",
      "451/451 [==============================] - 0s 508us/sample - loss: 1.6455e-04 - mean_absolute_error: 0.0095 - val_loss: 1.6629e-04 - val_mean_absolute_error: 0.0098\n",
      "Epoch 401/500\n",
      "451/451 [==============================] - 0s 513us/sample - loss: 1.9418e-04 - mean_absolute_error: 0.0100 - val_loss: 1.0270e-04 - val_mean_absolute_error: 0.0079\n",
      "Epoch 402/500\n",
      "451/451 [==============================] - 0s 505us/sample - loss: 3.9043e-05 - mean_absolute_error: 0.0048 - val_loss: 2.5527e-05 - val_mean_absolute_error: 0.0042\n",
      "Epoch 403/500\n",
      "451/451 [==============================] - 0s 482us/sample - loss: 4.3557e-05 - mean_absolute_error: 0.0050 - val_loss: 2.4388e-04 - val_mean_absolute_error: 0.0116\n",
      "Epoch 404/500\n",
      "451/451 [==============================] - 0s 513us/sample - loss: 1.3176e-04 - mean_absolute_error: 0.0086 - val_loss: 2.8393e-04 - val_mean_absolute_error: 0.0147\n",
      "Epoch 405/500\n",
      "451/451 [==============================] - 0s 504us/sample - loss: 1.0322e-04 - mean_absolute_error: 0.0076 - val_loss: 1.6627e-05 - val_mean_absolute_error: 0.0028\n",
      "Epoch 406/500\n",
      "451/451 [==============================] - 0s 489us/sample - loss: 2.5784e-05 - mean_absolute_error: 0.0039 - val_loss: 9.4816e-05 - val_mean_absolute_error: 0.0077\n",
      "Epoch 407/500\n",
      "451/451 [==============================] - 0s 462us/sample - loss: 4.3118e-05 - mean_absolute_error: 0.0051 - val_loss: 3.7435e-05 - val_mean_absolute_error: 0.0050\n",
      "Epoch 408/500\n",
      "451/451 [==============================] - 0s 463us/sample - loss: 1.3544e-04 - mean_absolute_error: 0.0077 - val_loss: 4.0628e-04 - val_mean_absolute_error: 0.0138\n",
      "Epoch 409/500\n",
      "451/451 [==============================] - 0s 460us/sample - loss: 2.0196e-04 - mean_absolute_error: 0.0107 - val_loss: 1.4374e-04 - val_mean_absolute_error: 0.0102\n",
      "Epoch 410/500\n",
      "451/451 [==============================] - 0s 456us/sample - loss: 1.1516e-04 - mean_absolute_error: 0.0081 - val_loss: 7.9053e-04 - val_mean_absolute_error: 0.0155\n",
      "Epoch 411/500\n",
      "451/451 [==============================] - 0s 461us/sample - loss: 6.7853e-04 - mean_absolute_error: 0.0165 - val_loss: 4.9420e-04 - val_mean_absolute_error: 0.0140\n",
      "Epoch 412/500\n",
      "451/451 [==============================] - 0s 456us/sample - loss: 1.3431e-04 - mean_absolute_error: 0.0076 - val_loss: 5.8717e-05 - val_mean_absolute_error: 0.0059\n"
     ]
    },
    {
     "name": "stdout",
     "output_type": "stream",
     "text": [
      "Epoch 413/500\n",
      "451/451 [==============================] - 0s 460us/sample - loss: 4.1517e-05 - mean_absolute_error: 0.0050 - val_loss: 4.3075e-04 - val_mean_absolute_error: 0.0167\n",
      "Epoch 414/500\n",
      "451/451 [==============================] - 0s 456us/sample - loss: 2.2293e-04 - mean_absolute_error: 0.0107 - val_loss: 1.7892e-05 - val_mean_absolute_error: 0.0037\n",
      "Epoch 415/500\n",
      "451/451 [==============================] - 0s 467us/sample - loss: 1.1384e-04 - mean_absolute_error: 0.0080 - val_loss: 9.2637e-05 - val_mean_absolute_error: 0.0074\n",
      "Epoch 416/500\n",
      "451/451 [==============================] - 0s 458us/sample - loss: 1.3640e-04 - mean_absolute_error: 0.0089 - val_loss: 6.5467e-05 - val_mean_absolute_error: 0.0068\n",
      "Epoch 417/500\n",
      "451/451 [==============================] - 0s 464us/sample - loss: 4.0684e-05 - mean_absolute_error: 0.0050 - val_loss: 1.8924e-04 - val_mean_absolute_error: 0.0106\n",
      "Epoch 418/500\n",
      "451/451 [==============================] - 0s 462us/sample - loss: 1.0207e-04 - mean_absolute_error: 0.0077 - val_loss: 4.4038e-05 - val_mean_absolute_error: 0.0052\n",
      "Epoch 419/500\n",
      "451/451 [==============================] - 0s 451us/sample - loss: 4.6303e-05 - mean_absolute_error: 0.0054 - val_loss: 1.2677e-04 - val_mean_absolute_error: 0.0095\n",
      "Epoch 420/500\n",
      "451/451 [==============================] - 0s 463us/sample - loss: 8.6289e-05 - mean_absolute_error: 0.0070 - val_loss: 9.5282e-05 - val_mean_absolute_error: 0.0068\n",
      "Epoch 421/500\n",
      "451/451 [==============================] - 0s 459us/sample - loss: 1.3334e-04 - mean_absolute_error: 0.0089 - val_loss: 5.6012e-04 - val_mean_absolute_error: 0.0183\n",
      "Epoch 422/500\n",
      "451/451 [==============================] - 0s 463us/sample - loss: 3.3236e-04 - mean_absolute_error: 0.0135 - val_loss: 3.2926e-04 - val_mean_absolute_error: 0.0127\n",
      "Epoch 423/500\n",
      "451/451 [==============================] - 0s 460us/sample - loss: 1.6539e-04 - mean_absolute_error: 0.0096 - val_loss: 4.3082e-04 - val_mean_absolute_error: 0.0170\n",
      "Epoch 424/500\n",
      "451/451 [==============================] - 0s 589us/sample - loss: 2.1050e-04 - mean_absolute_error: 0.0110 - val_loss: 5.7051e-05 - val_mean_absolute_error: 0.0063\n",
      "Epoch 425/500\n",
      "451/451 [==============================] - 0s 478us/sample - loss: 1.2091e-04 - mean_absolute_error: 0.0086 - val_loss: 6.7094e-04 - val_mean_absolute_error: 0.0185\n",
      "Epoch 426/500\n",
      "451/451 [==============================] - 0s 462us/sample - loss: 2.1476e-04 - mean_absolute_error: 0.0104 - val_loss: 1.2720e-04 - val_mean_absolute_error: 0.0083\n",
      "Epoch 427/500\n",
      "451/451 [==============================] - 0s 458us/sample - loss: 1.3660e-04 - mean_absolute_error: 0.0085 - val_loss: 1.3973e-04 - val_mean_absolute_error: 0.0095\n",
      "Epoch 428/500\n",
      "451/451 [==============================] - 0s 456us/sample - loss: 5.7076e-05 - mean_absolute_error: 0.0057 - val_loss: 9.9933e-05 - val_mean_absolute_error: 0.0075\n",
      "Epoch 429/500\n",
      "451/451 [==============================] - 0s 458us/sample - loss: 1.1407e-04 - mean_absolute_error: 0.0076 - val_loss: 4.8771e-04 - val_mean_absolute_error: 0.0188\n",
      "Epoch 430/500\n",
      "451/451 [==============================] - 0s 462us/sample - loss: 2.5857e-04 - mean_absolute_error: 0.0121 - val_loss: 5.8287e-04 - val_mean_absolute_error: 0.0179\n",
      "Epoch 431/500\n",
      "451/451 [==============================] - 0s 460us/sample - loss: 2.4155e-04 - mean_absolute_error: 0.0111 - val_loss: 1.1872e-04 - val_mean_absolute_error: 0.0089\n",
      "Epoch 432/500\n",
      "451/451 [==============================] - 0s 454us/sample - loss: 1.4950e-04 - mean_absolute_error: 0.0093 - val_loss: 5.5040e-04 - val_mean_absolute_error: 0.0149\n",
      "Epoch 433/500\n",
      "451/451 [==============================] - 0s 466us/sample - loss: 1.6034e-04 - mean_absolute_error: 0.0086 - val_loss: 2.6543e-04 - val_mean_absolute_error: 0.0135\n",
      "Epoch 434/500\n",
      "451/451 [==============================] - 0s 493us/sample - loss: 2.8861e-04 - mean_absolute_error: 0.0125 - val_loss: 2.6514e-04 - val_mean_absolute_error: 0.0122\n",
      "Epoch 435/500\n",
      "451/451 [==============================] - 0s 478us/sample - loss: 1.3428e-04 - mean_absolute_error: 0.0089 - val_loss: 6.2554e-05 - val_mean_absolute_error: 0.0057\n",
      "Epoch 436/500\n",
      "451/451 [==============================] - 0s 494us/sample - loss: 3.1184e-05 - mean_absolute_error: 0.0039 - val_loss: 1.4298e-04 - val_mean_absolute_error: 0.0091\n",
      "Epoch 437/500\n",
      "451/451 [==============================] - 0s 470us/sample - loss: 9.4756e-05 - mean_absolute_error: 0.0076 - val_loss: 7.0418e-05 - val_mean_absolute_error: 0.0067\n",
      "Epoch 438/500\n",
      "451/451 [==============================] - 0s 492us/sample - loss: 6.4626e-05 - mean_absolute_error: 0.0061 - val_loss: 7.7343e-05 - val_mean_absolute_error: 0.0071\n",
      "Epoch 439/500\n",
      "451/451 [==============================] - 0s 513us/sample - loss: 1.2768e-04 - mean_absolute_error: 0.0076 - val_loss: 1.5741e-05 - val_mean_absolute_error: 0.0032\n",
      "Epoch 440/500\n",
      "451/451 [==============================] - 0s 533us/sample - loss: 2.6840e-05 - mean_absolute_error: 0.0040 - val_loss: 1.6778e-04 - val_mean_absolute_error: 0.0098\n",
      "Epoch 441/500\n",
      "451/451 [==============================] - 0s 356us/sample - loss: 1.2287e-04 - mean_absolute_error: 0.0084 - val_loss: 4.1852e-04 - val_mean_absolute_error: 0.0117\n",
      "Epoch 442/500\n",
      "451/451 [==============================] - 0s 340us/sample - loss: 1.2059e-04 - mean_absolute_error: 0.0081 - val_loss: 1.3663e-04 - val_mean_absolute_error: 0.0087\n",
      "Epoch 443/500\n",
      "451/451 [==============================] - 0s 421us/sample - loss: 2.3969e-04 - mean_absolute_error: 0.0117 - val_loss: 7.6749e-05 - val_mean_absolute_error: 0.0071\n",
      "Epoch 444/500\n",
      "451/451 [==============================] - 0s 566us/sample - loss: 3.2962e-05 - mean_absolute_error: 0.0044 - val_loss: 1.0266e-04 - val_mean_absolute_error: 0.0075\n",
      "Epoch 445/500\n",
      "451/451 [==============================] - 0s 529us/sample - loss: 1.5320e-04 - mean_absolute_error: 0.0095 - val_loss: 1.6971e-04 - val_mean_absolute_error: 0.0087\n",
      "Epoch 446/500\n",
      "451/451 [==============================] - 0s 568us/sample - loss: 1.4712e-04 - mean_absolute_error: 0.0090 - val_loss: 2.0065e-04 - val_mean_absolute_error: 0.0108\n",
      "Epoch 447/500\n",
      "451/451 [==============================] - 0s 505us/sample - loss: 4.7480e-04 - mean_absolute_error: 0.0159 - val_loss: 3.1622e-04 - val_mean_absolute_error: 0.0144\n",
      "Epoch 448/500\n",
      "451/451 [==============================] - 0s 531us/sample - loss: 1.8261e-04 - mean_absolute_error: 0.0105 - val_loss: 3.8719e-04 - val_mean_absolute_error: 0.0107\n",
      "Epoch 449/500\n",
      "451/451 [==============================] - 0s 265us/sample - loss: 1.4243e-04 - mean_absolute_error: 0.0088 - val_loss: 9.0597e-05 - val_mean_absolute_error: 0.0079\n",
      "Epoch 450/500\n",
      "451/451 [==============================] - 0s 355us/sample - loss: 4.4532e-05 - mean_absolute_error: 0.0050 - val_loss: 2.6132e-05 - val_mean_absolute_error: 0.0044\n",
      "Epoch 451/500\n",
      "451/451 [==============================] - 0s 341us/sample - loss: 5.1232e-05 - mean_absolute_error: 0.0053 - val_loss: 2.6851e-04 - val_mean_absolute_error: 0.0082\n",
      "Epoch 452/500\n",
      "451/451 [==============================] - 0s 317us/sample - loss: 1.3244e-04 - mean_absolute_error: 0.0083 - val_loss: 9.2207e-05 - val_mean_absolute_error: 0.0071\n",
      "Epoch 453/500\n",
      "451/451 [==============================] - 0s 572us/sample - loss: 7.6778e-05 - mean_absolute_error: 0.0062 - val_loss: 1.7193e-04 - val_mean_absolute_error: 0.0105\n",
      "Epoch 454/500\n",
      "451/451 [==============================] - 0s 429us/sample - loss: 1.2443e-04 - mean_absolute_error: 0.0087 - val_loss: 7.8929e-04 - val_mean_absolute_error: 0.0203\n",
      "Epoch 455/500\n",
      "451/451 [==============================] - 0s 410us/sample - loss: 2.4044e-04 - mean_absolute_error: 0.0120 - val_loss: 1.6741e-04 - val_mean_absolute_error: 0.0079\n",
      "Epoch 456/500\n",
      "451/451 [==============================] - 0s 531us/sample - loss: 1.2977e-04 - mean_absolute_error: 0.0085 - val_loss: 6.9008e-05 - val_mean_absolute_error: 0.0059\n",
      "Epoch 457/500\n",
      "451/451 [==============================] - 0s 568us/sample - loss: 1.3949e-04 - mean_absolute_error: 0.0082 - val_loss: 1.9166e-04 - val_mean_absolute_error: 0.0081\n",
      "Epoch 458/500\n",
      "451/451 [==============================] - 0s 553us/sample - loss: 4.8220e-05 - mean_absolute_error: 0.0052 - val_loss: 7.4708e-05 - val_mean_absolute_error: 0.0064\n"
     ]
    },
    {
     "name": "stdout",
     "output_type": "stream",
     "text": [
      "Epoch 459/500\n",
      "451/451 [==============================] - 0s 544us/sample - loss: 3.6683e-05 - mean_absolute_error: 0.0047 - val_loss: 3.0099e-04 - val_mean_absolute_error: 0.0139\n",
      "Epoch 460/500\n",
      "451/451 [==============================] - 0s 343us/sample - loss: 1.2105e-04 - mean_absolute_error: 0.0076 - val_loss: 9.2809e-05 - val_mean_absolute_error: 0.0057\n",
      "Epoch 461/500\n",
      "451/451 [==============================] - 0s 517us/sample - loss: 9.1881e-05 - mean_absolute_error: 0.0068 - val_loss: 3.0605e-05 - val_mean_absolute_error: 0.0044\n",
      "Epoch 462/500\n",
      "451/451 [==============================] - 0s 363us/sample - loss: 4.8850e-05 - mean_absolute_error: 0.0054 - val_loss: 3.0780e-04 - val_mean_absolute_error: 0.0128\n",
      "Epoch 463/500\n",
      "451/451 [==============================] - 0s 513us/sample - loss: 1.0203e-04 - mean_absolute_error: 0.0074 - val_loss: 4.6755e-04 - val_mean_absolute_error: 0.0124\n",
      "Epoch 464/500\n",
      "451/451 [==============================] - 0s 407us/sample - loss: 3.1981e-04 - mean_absolute_error: 0.0133 - val_loss: 4.6974e-04 - val_mean_absolute_error: 0.0173\n",
      "Epoch 465/500\n",
      "451/451 [==============================] - 0s 383us/sample - loss: 1.6238e-04 - mean_absolute_error: 0.0089 - val_loss: 2.2373e-04 - val_mean_absolute_error: 0.0081\n",
      "Epoch 466/500\n",
      "451/451 [==============================] - 0s 414us/sample - loss: 5.7690e-04 - mean_absolute_error: 0.0153 - val_loss: 3.4302e-04 - val_mean_absolute_error: 0.0139\n",
      "Epoch 467/500\n",
      "451/451 [==============================] - 0s 558us/sample - loss: 1.7697e-04 - mean_absolute_error: 0.0099 - val_loss: 8.2933e-05 - val_mean_absolute_error: 0.0078\n",
      "Epoch 468/500\n",
      "451/451 [==============================] - 0s 556us/sample - loss: 8.0016e-05 - mean_absolute_error: 0.0070 - val_loss: 3.0352e-05 - val_mean_absolute_error: 0.0046\n",
      "Epoch 469/500\n",
      "451/451 [==============================] - 0s 574us/sample - loss: 9.7880e-05 - mean_absolute_error: 0.0079 - val_loss: 2.6501e-04 - val_mean_absolute_error: 0.0118\n",
      "Epoch 470/500\n",
      "451/451 [==============================] - 0s 579us/sample - loss: 8.9288e-05 - mean_absolute_error: 0.0073 - val_loss: 2.8628e-04 - val_mean_absolute_error: 0.0126\n",
      "Epoch 471/500\n",
      "451/451 [==============================] - 0s 529us/sample - loss: 2.4634e-04 - mean_absolute_error: 0.0116 - val_loss: 9.5426e-05 - val_mean_absolute_error: 0.0067\n",
      "Epoch 472/500\n",
      "451/451 [==============================] - 0s 560us/sample - loss: 4.3907e-05 - mean_absolute_error: 0.0049 - val_loss: 4.6545e-05 - val_mean_absolute_error: 0.0059\n",
      "Epoch 473/500\n",
      "451/451 [==============================] - 0s 503us/sample - loss: 1.2049e-04 - mean_absolute_error: 0.0082 - val_loss: 2.9104e-04 - val_mean_absolute_error: 0.0095\n",
      "Epoch 474/500\n",
      "451/451 [==============================] - 0s 476us/sample - loss: 1.9107e-04 - mean_absolute_error: 0.0102 - val_loss: 4.8144e-04 - val_mean_absolute_error: 0.0145\n",
      "Epoch 475/500\n",
      "451/451 [==============================] - 0s 485us/sample - loss: 0.0011 - mean_absolute_error: 0.0242 - val_loss: 2.9069e-04 - val_mean_absolute_error: 0.0131\n",
      "Epoch 476/500\n",
      "451/451 [==============================] - 0s 484us/sample - loss: 2.9107e-04 - mean_absolute_error: 0.0130 - val_loss: 2.3095e-04 - val_mean_absolute_error: 0.0126\n",
      "Epoch 477/500\n",
      "451/451 [==============================] - 0s 504us/sample - loss: 1.0002e-04 - mean_absolute_error: 0.0079 - val_loss: 2.6201e-05 - val_mean_absolute_error: 0.0040\n",
      "Epoch 478/500\n",
      "451/451 [==============================] - 0s 539us/sample - loss: 5.2634e-05 - mean_absolute_error: 0.0057 - val_loss: 3.5430e-05 - val_mean_absolute_error: 0.0045\n",
      "Epoch 479/500\n",
      "451/451 [==============================] - 0s 505us/sample - loss: 3.6832e-05 - mean_absolute_error: 0.0046 - val_loss: 2.1006e-04 - val_mean_absolute_error: 0.0099\n",
      "Epoch 480/500\n",
      "451/451 [==============================] - 0s 497us/sample - loss: 1.4422e-04 - mean_absolute_error: 0.0086 - val_loss: 1.2874e-04 - val_mean_absolute_error: 0.0083\n",
      "Epoch 481/500\n",
      "451/451 [==============================] - 0s 506us/sample - loss: 1.2467e-04 - mean_absolute_error: 0.0084 - val_loss: 1.6152e-04 - val_mean_absolute_error: 0.0080\n",
      "Epoch 482/500\n",
      "451/451 [==============================] - 0s 490us/sample - loss: 5.9708e-05 - mean_absolute_error: 0.0057 - val_loss: 4.9049e-05 - val_mean_absolute_error: 0.0054\n",
      "Epoch 483/500\n",
      "451/451 [==============================] - 0s 531us/sample - loss: 1.5873e-04 - mean_absolute_error: 0.0082 - val_loss: 9.1841e-04 - val_mean_absolute_error: 0.0198\n",
      "Epoch 484/500\n",
      "451/451 [==============================] - 0s 470us/sample - loss: 4.0520e-04 - mean_absolute_error: 0.0149 - val_loss: 3.7344e-04 - val_mean_absolute_error: 0.0132\n",
      "Epoch 485/500\n",
      "451/451 [==============================] - 0s 506us/sample - loss: 1.4561e-04 - mean_absolute_error: 0.0091 - val_loss: 1.6922e-04 - val_mean_absolute_error: 0.0092\n",
      "Epoch 486/500\n",
      "451/451 [==============================] - 0s 493us/sample - loss: 7.5402e-05 - mean_absolute_error: 0.0066 - val_loss: 5.2614e-05 - val_mean_absolute_error: 0.0051\n",
      "Epoch 487/500\n",
      "451/451 [==============================] - 0s 507us/sample - loss: 5.2037e-05 - mean_absolute_error: 0.0056 - val_loss: 2.3550e-04 - val_mean_absolute_error: 0.0103\n",
      "Epoch 488/500\n",
      "451/451 [==============================] - 0s 484us/sample - loss: 3.4826e-04 - mean_absolute_error: 0.0141 - val_loss: 1.0769e-04 - val_mean_absolute_error: 0.0085\n",
      "Epoch 489/500\n",
      "451/451 [==============================] - 0s 504us/sample - loss: 7.0675e-05 - mean_absolute_error: 0.0064 - val_loss: 5.8611e-05 - val_mean_absolute_error: 0.0057\n",
      "Epoch 490/500\n",
      "451/451 [==============================] - 0s 462us/sample - loss: 6.4139e-05 - mean_absolute_error: 0.0057 - val_loss: 2.5045e-05 - val_mean_absolute_error: 0.0037\n",
      "Epoch 491/500\n",
      "451/451 [==============================] - 0s 473us/sample - loss: 6.7785e-05 - mean_absolute_error: 0.0058 - val_loss: 6.3677e-05 - val_mean_absolute_error: 0.0065\n",
      "Epoch 492/500\n",
      "451/451 [==============================] - 0s 500us/sample - loss: 4.2875e-05 - mean_absolute_error: 0.0049 - val_loss: 7.7778e-05 - val_mean_absolute_error: 0.0073\n",
      "Epoch 493/500\n",
      "451/451 [==============================] - 0s 533us/sample - loss: 9.2540e-05 - mean_absolute_error: 0.0072 - val_loss: 5.3182e-05 - val_mean_absolute_error: 0.0055\n",
      "Epoch 494/500\n",
      "451/451 [==============================] - 0s 514us/sample - loss: 5.5122e-05 - mean_absolute_error: 0.0058 - val_loss: 7.8863e-04 - val_mean_absolute_error: 0.0145\n",
      "Epoch 495/500\n",
      "451/451 [==============================] - 0s 500us/sample - loss: 3.4441e-04 - mean_absolute_error: 0.0132 - val_loss: 1.8602e-04 - val_mean_absolute_error: 0.0112\n",
      "Epoch 496/500\n",
      "451/451 [==============================] - 0s 476us/sample - loss: 2.4236e-04 - mean_absolute_error: 0.0120 - val_loss: 6.5944e-05 - val_mean_absolute_error: 0.0063\n",
      "Epoch 497/500\n",
      "451/451 [==============================] - 0s 734us/sample - loss: 1.6630e-04 - mean_absolute_error: 0.0095 - val_loss: 3.7694e-05 - val_mean_absolute_error: 0.0054\n",
      "Epoch 498/500\n",
      "451/451 [==============================] - 0s 389us/sample - loss: 4.6530e-05 - mean_absolute_error: 0.0053 - val_loss: 5.6135e-05 - val_mean_absolute_error: 0.0042\n",
      "Epoch 499/500\n",
      "451/451 [==============================] - 0s 502us/sample - loss: 9.1769e-05 - mean_absolute_error: 0.0070 - val_loss: 1.4378e-04 - val_mean_absolute_error: 0.0069\n",
      "Epoch 500/500\n",
      "451/451 [==============================] - 0s 652us/sample - loss: 4.6445e-04 - mean_absolute_error: 0.0139 - val_loss: 3.0291e-04 - val_mean_absolute_error: 0.0109\n"
     ]
    }
   ],
   "source": [
    "\n",
    "history = model.fit(\n",
    "    X_train, y_train,\n",
    "    epochs = 500,\n",
    "    validation_split=0.05)"
   ]
  },
  {
   "cell_type": "code",
   "execution_count": 113,
   "metadata": {},
   "outputs": [],
   "source": [
    "val_loss=history.history['val_loss']\n",
    "loss=history.history['loss']\n",
    "val_mae=history.history['val_mean_absolute_error']\n",
    "mae=history.history['mean_absolute_error']"
   ]
  },
  {
   "cell_type": "code",
   "execution_count": 114,
   "metadata": {},
   "outputs": [
    {
     "data": {
      "text/plain": [
       "Text(0.5, 1.0, 'Validation and Training Loss')"
      ]
     },
     "execution_count": 114,
     "metadata": {},
     "output_type": "execute_result"
    },
    {
     "data": {
      "image/png": "[encoded data removed]",
      "text/plain": [
       "<Figure size 576x576 with 1 Axes>"
      ]
     },
     "metadata": {
      "needs_background": "light"
     },
     "output_type": "display_data"
    }
   ],
   "source": [
    "plt.figure(figsize=(8, 8))\n",
    "plt.plot(range(500),loss,label='Training Loss',linewidth=2.0,color='red')\n",
    "plt.plot(range(500),val_loss,label='Validation Loss',ls='--',linewidth=2.0,color='black')\n",
    "plt.legend()\n",
    "plt.xlabel('EPOCHS')\n",
    "plt.ylabel('LOSS')\n",
    "plt.title(\"Validation and Training Loss\")"
   ]
  },
  {
   "cell_type": "code",
   "execution_count": 116,
   "metadata": {},
   "outputs": [
    {
     "data": {
      "text/plain": [
       "Text(0.5, 1.0, 'Mean Absolute Error For Training and Validation')"
      ]
     },
     "execution_count": 116,
     "metadata": {},
     "output_type": "execute_result"
    },
    {
     "data": {
      "image/png": "[encoded data removed]",
      "text/plain": [
       "<Figure size 576x576 with 1 Axes>"
      ]
     },
     "metadata": {
      "needs_background": "light"
     },
     "output_type": "display_data"
    }
   ],
   "source": [
    "plt.figure(figsize=(8, 8))\n",
    "plt.plot(range(500),mae,label='Training MAE',color='red')\n",
    "plt.plot(range(500),val_mae,label='Validation MAE',ls='--',color='black')\n",
    "plt.legend()\n",
    "plt.xlabel('EPOCHS')\n",
    "plt.ylabel('MAE')\n",
    "plt.title(\"Mean Absolute Error For Training and Validation\")"
   ]
  },
  {
   "cell_type": "markdown",
   "metadata": {},
   "source": [
    "# Train Data"
   ]
  },
  {
   "cell_type": "code",
   "execution_count": 130,
   "metadata": {},
   "outputs": [],
   "source": [
    "predictions=model.predict(X_train)\n",
    "convt_predictions=[convert_label_value(x) for x in predictions]\n",
    "convt_y_train=[convert_label_value(x) for x in y_train]"
   ]
  },
  {
   "cell_type": "code",
   "execution_count": 131,
   "metadata": {},
   "outputs": [
    {
     "data": {
      "text/plain": [
       "Text(0, 0.5, 'Prices')"
      ]
     },
     "execution_count": 131,
     "metadata": {},
     "output_type": "execute_result"
    },
    {
     "data": {
      "image/png": "[encoded data removed]",
      "text/plain": [
       "<Figure size 576x576 with 1 Axes>"
      ]
     },
     "metadata": {
      "needs_background": "light"
     },
     "output_type": "display_data"
    }
   ],
   "source": [
    "plt.figure(figsize=(8,8))\n",
    "plt.plot(range(475),convt_y_train,'ro',label='Original Prices')\n",
    "plt.plot(range(475),convt_predictions,'b*',label='Predicted Prices')\n",
    "plt.legend()\n",
    "plt.ylabel(\"Prices\")"
   ]
  },
  {
   "cell_type": "code",
   "execution_count": 133,
   "metadata": {},
   "outputs": [
    {
     "data": {
      "text/plain": [
       "[<matplotlib.lines.Line2D at 0x295a4600408>]"
      ]
     },
     "execution_count": 133,
     "metadata": {},
     "output_type": "execute_result"
    },
    {
     "data": {
      "image/png": "[encoded data removed]",
      "text/plain": [
       "<Figure size 1080x1080 with 1 Axes>"
      ]
     },
     "metadata": {
      "needs_background": "light"
     },
     "output_type": "display_data"
    }
   ],
   "source": [
    "plt.figure(figsize=(15,15))\n",
    "plt.plot(convt_predictions,convt_y_train,'ro',label='Trained Model')\n",
    "plt.xlabel('Prediction Prices')\n",
    "plt.ylabel('Original Prices')\n",
    "plt.grid()\n",
    "plt.title('Original Vs Predicted')\n",
    "\n",
    "y_min = min(min(convt_y_test), min(convt_predictions))\n",
    "y_max = max(max(convt_y_test), max(convt_predictions))\n",
    "\n",
    "plt.xlim([y_min, y_max])\n",
    "plt.ylim([y_min, y_max])\n",
    "plt.plot([y_min, y_max], [y_min, y_max], 'b--')"
   ]
  },
  {
   "cell_type": "code",
   "execution_count": null,
   "metadata": {},
   "outputs": [],
   "source": []
  },
  {
   "cell_type": "markdown",
   "metadata": {},
   "source": [
    "# Test Data"
   ]
  },
  {
   "cell_type": "code",
   "execution_count": 127,
   "metadata": {},
   "outputs": [],
   "source": [
    "predictions=model.predict(X_test)\n",
    "convt_predictions=[convert_label_value(x) for x in predictions]\n",
    "convt_y_test=[convert_label_value(x) for x in y_test]"
   ]
  },
  {
   "cell_type": "code",
   "execution_count": 128,
   "metadata": {},
   "outputs": [
    {
     "data": {
      "text/plain": [
       "Text(0, 0.5, 'Prices')"
      ]
     },
     "execution_count": 128,
     "metadata": {},
     "output_type": "execute_result"
    },
    {
     "data": {
      "image/png": "[encoded data removed]",
      "text/plain": [
       "<Figure size 576x576 with 1 Axes>"
      ]
     },
     "metadata": {
      "needs_background": "light"
     },
     "output_type": "display_data"
    }
   ],
   "source": [
    "plt.figure(figsize=(8,8))\n",
    "plt.plot(range(25),convt_y_test,'ro',label='Original Prices')\n",
    "plt.plot(range(25),convt_predictions,'b*',label='Predicted Prices')\n",
    "plt.legend()\n",
    "plt.ylabel(\"Prices\")"
   ]
  },
  {
   "cell_type": "code",
   "execution_count": 120,
   "metadata": {},
   "outputs": [
    {
     "name": "stdout",
     "output_type": "stream",
     "text": [
      "\r",
      "25/25 [==============================] - 0s 12ms/sample - loss: 5.9629e-04 - mean_absolute_error: 0.0145\n"
     ]
    }
   ],
   "source": [
    "h=model.evaluate(X_test,y_test)"
   ]
  },
  {
   "cell_type": "code",
   "execution_count": 121,
   "metadata": {},
   "outputs": [
    {
     "data": {
      "text/plain": [
       "[<matplotlib.lines.Line2D at 0x295a0961948>]"
      ]
     },
     "execution_count": 121,
     "metadata": {},
     "output_type": "execute_result"
    },
    {
     "data": {
      "image/png": "[encoded data removed]",
      "text/plain": [
       "<Figure size 576x576 with 1 Axes>"
      ]
     },
     "metadata": {
      "needs_background": "light"
     },
     "output_type": "display_data"
    }
   ],
   "source": [
    "plt.figure(figsize=(8,8))\n",
    "plt.plot(convt_predictions,convt_y_test,'ro',label='Trained Model')\n",
    "plt.xlabel('Prediction Prices')\n",
    "plt.ylabel('Original Prices')\n",
    "plt.grid()\n",
    "plt.title('Original Vs Predicted')\n",
    "\n",
    "y_min = min(min(convt_y_test), min(convt_predictions))\n",
    "y_max = max(max(convt_y_test), max(convt_predictions))\n",
    "\n",
    "plt.xlim([y_min, y_max])\n",
    "plt.ylim([y_min, y_max])\n",
    "plt.plot([y_min, y_max], [y_min, y_max], 'b--')"
   ]
  },
  {
   "cell_type": "code",
   "execution_count": null,
   "metadata": {},
   "outputs": [],
   "source": []
  }
 ],
 "metadata": {
  "kernelspec": {
   "display_name": "tensorflow",
   "language": "python",
   "name": "tensorflow"
  },
  "language_info": {
   "codemirror_mode": {
    "name": "ipython",
    "version": 3
   },
   "file_extension": ".py",
   "mimetype": "text/x-python",
   "name": "python",
   "nbconvert_exporter": "python",
   "pygments_lexer": "ipython3",
   "version": "3.7.7"
  }
 },
 "nbformat": 4,
 "nbformat_minor": 4
}
